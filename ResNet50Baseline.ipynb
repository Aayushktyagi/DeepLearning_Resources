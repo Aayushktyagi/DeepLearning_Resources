{
 "cells": [
  {
   "cell_type": "code",
   "execution_count": 1,
   "metadata": {},
   "outputs": [],
   "source": [
    "import numpy as np\n",
    "import sys\n",
    "import os\n",
    "import time\n",
    "import cv2\n",
    "import pandas\n",
    "import matplotlib.pyplot as plt\n",
    "from sklearn.metrics import confusion_matrix"
   ]
  },
  {
   "cell_type": "code",
   "execution_count": 2,
   "metadata": {},
   "outputs": [],
   "source": [
    "os.environ[\"CUDA_VISIBLE_DEVICES\"]=\"1\""
   ]
  },
  {
   "cell_type": "code",
   "execution_count": 3,
   "metadata": {},
   "outputs": [],
   "source": [
    "#Tensorflow utilities\n",
    "from tensorflow.python.keras.applications import ResNet50\n",
    "from tensorflow.python.keras.models import Sequential\n",
    "from tensorflow.python.keras.layers import Dense, Flatten, GlobalAveragePooling2D, BatchNormalization\n",
    "from tensorflow.python.keras.applications.resnet50 import preprocess_input\n",
    "from tensorflow.python.keras.preprocessing.image import ImageDataGenerator\n",
    "from tensorflow.python.keras.preprocessing.image import load_img, img_to_array\n",
    "from tensorflow.python.keras.callbacks import EarlyStopping, ModelCheckpoint, ReduceLROnPlateau"
   ]
  },
  {
   "cell_type": "code",
   "execution_count": 4,
   "metadata": {},
   "outputs": [],
   "source": [
    "# base data path \n",
    "train_path = '/home/manu_kohli/skin/Aayush/github/WBC_project/Dataset/combined/train'\n",
    "test_path = '/home/manu_kohli/skin/Aayush/github/WBC_project/Dataset/combined/test'"
   ]
  },
  {
   "cell_type": "code",
   "execution_count": 5,
   "metadata": {},
   "outputs": [
    {
     "name": "stdout",
     "output_type": "stream",
     "text": [
      "Found 20385 images belonging to 11 classes.\n",
      "Found 4073 images belonging to 11 classes.\n"
     ]
    }
   ],
   "source": [
    "# loading data\n",
    "data_generator = ImageDataGenerator(validation_split=0.2,\n",
    "                                    rescale=1./255)\n",
    "\n",
    "image_size = 128\n",
    "batch_size = 32\n",
    "train_generator = data_generator.flow_from_directory(\n",
    "        train_path,\n",
    "        target_size=(image_size, image_size),\n",
    "        batch_size=batch_size,\n",
    "        class_mode='categorical')\n",
    "\n",
    "validation_generator = data_generator.flow_from_directory(\n",
    "    train_path,\n",
    "    target_size=(image_size, image_size),\n",
    "    batch_size=batch_size,\n",
    "    class_mode='categorical',\n",
    "    subset='validation')\n",
    "\n",
    "\n",
    "num_classes = len(train_generator.class_indices)\n",
    "num_classes = len(validation_generator.class_indices)\n",
    "    "
   ]
  },
  {
   "cell_type": "code",
   "execution_count": 6,
   "metadata": {},
   "outputs": [
    {
     "name": "stdout",
     "output_type": "stream",
     "text": [
      "WARNING:tensorflow:From /home/manu_kohli/anaconda3/lib/python3.7/site-packages/tensorflow/python/ops/resource_variable_ops.py:435: colocate_with (from tensorflow.python.framework.ops) is deprecated and will be removed in a future version.\n",
      "Instructions for updating:\n",
      "Colocations handled automatically by placer.\n",
      "_________________________________________________________________\n",
      "Layer (type)                 Output Shape              Param #   \n",
      "=================================================================\n",
      "resnet50 (Model)             (None, 2048)              23587712  \n",
      "_________________________________________________________________\n",
      "dense (Dense)                (None, 11)                22539     \n",
      "=================================================================\n",
      "Total params: 23,610,251\n",
      "Trainable params: 22,539\n",
      "Non-trainable params: 23,587,712\n",
      "_________________________________________________________________\n"
     ]
    }
   ],
   "source": [
    "model = Sequential()\n",
    "model.add(ResNet50(input_shape=(128,128,3),include_top = False, weights='imagenet',pooling='avg'))\n",
    "model.add(Dense(num_classes, activation = 'softmax'))\n",
    "model.layers[0].trainable = False\n",
    "\n",
    "model.summary()"
   ]
  },
  {
   "cell_type": "code",
   "execution_count": 7,
   "metadata": {},
   "outputs": [],
   "source": [
    "callbacks = [\n",
    "    EarlyStopping(patience=10, verbose=1,monitor='val_loss'),\n",
    "    ReduceLROnPlateau(factor=0.1, patience=3, min_lr=0.00001, verbose=1,monitor='val_loss'),\n",
    "    ModelCheckpoint('./weights/combinedABC_wA.h5', verbose=1, save_best_only=True, save_weights_only=True)\n",
    "]"
   ]
  },
  {
   "cell_type": "code",
   "execution_count": 8,
   "metadata": {},
   "outputs": [],
   "source": [
    "model.compile(optimizer='adam', loss='categorical_crossentropy', metrics=['accuracy'])"
   ]
  },
  {
   "cell_type": "code",
   "execution_count": 11,
   "metadata": {},
   "outputs": [
    {
     "name": "stdout",
     "output_type": "stream",
     "text": [
      "Epoch 1/10\n",
      "128/128 [==============================] - 13s 105ms/step - loss: 0.5156 - acc: 0.8235\n",
      "\n",
      "Epoch 00001: val_loss improved from 0.52964 to 0.51558, saving model to ./weights/combinedABC_wA.h5\n",
      "638/638 [==============================] - 87s 136ms/step - loss: 0.6040 - acc: 0.7886 - val_loss: 0.5156 - val_acc: 0.8235\n",
      "Epoch 2/10\n",
      "128/128 [==============================] - 13s 104ms/step - loss: 0.5184 - acc: 0.8242\n",
      "\n",
      "Epoch 00002: val_loss did not improve from 0.51558\n",
      "638/638 [==============================] - 86s 135ms/step - loss: 0.5971 - acc: 0.7922 - val_loss: 0.5184 - val_acc: 0.8242\n",
      "Epoch 3/10\n",
      "128/128 [==============================] - 13s 103ms/step - loss: 0.5263 - acc: 0.8195\n",
      "\n",
      "Epoch 00003: val_loss did not improve from 0.51558\n",
      "638/638 [==============================] - 86s 135ms/step - loss: 0.5973 - acc: 0.7936 - val_loss: 0.5263 - val_acc: 0.8195\n",
      "Epoch 4/10\n",
      "128/128 [==============================] - 13s 103ms/step - loss: 0.5225 - acc: 0.8188\n",
      "\n",
      "Epoch 00004: ReduceLROnPlateau reducing learning rate to 1.0000000474974514e-05.\n",
      "\n",
      "Epoch 00004: val_loss did not improve from 0.51558\n",
      "638/638 [==============================] - 86s 134ms/step - loss: 0.5947 - acc: 0.7905 - val_loss: 0.5225 - val_acc: 0.8188\n",
      "Epoch 5/10\n",
      "128/128 [==============================] - 13s 103ms/step - loss: 0.5097 - acc: 0.8274\n",
      "\n",
      "Epoch 00005: val_loss improved from 0.51558 to 0.50968, saving model to ./weights/combinedABC_wA.h5\n",
      "638/638 [==============================] - 86s 135ms/step - loss: 0.5808 - acc: 0.7969 - val_loss: 0.5097 - val_acc: 0.8274\n",
      "Epoch 6/10\n",
      "128/128 [==============================] - 13s 103ms/step - loss: 0.5093 - acc: 0.8279\n",
      "\n",
      "Epoch 00006: val_loss improved from 0.50968 to 0.50933, saving model to ./weights/combinedABC_wA.h5\n",
      "638/638 [==============================] - 86s 135ms/step - loss: 0.5790 - acc: 0.8019 - val_loss: 0.5093 - val_acc: 0.8279\n",
      "Epoch 7/10\n",
      "128/128 [==============================] - 13s 98ms/step - loss: 0.5092 - acc: 0.8289\n",
      "\n",
      "Epoch 00007: val_loss improved from 0.50933 to 0.50920, saving model to ./weights/combinedABC_wA.h5\n",
      "638/638 [==============================] - 85s 134ms/step - loss: 0.5804 - acc: 0.7983 - val_loss: 0.5092 - val_acc: 0.8289\n",
      "Epoch 8/10\n",
      "128/128 [==============================] - 13s 103ms/step - loss: 0.5159 - acc: 0.8242\n",
      "\n",
      "Epoch 00008: val_loss did not improve from 0.50920\n",
      "638/638 [==============================] - 85s 134ms/step - loss: 0.5830 - acc: 0.7992 - val_loss: 0.5159 - val_acc: 0.8242\n",
      "Epoch 9/10\n",
      "128/128 [==============================] - 13s 103ms/step - loss: 0.5138 - acc: 0.8264\n",
      "\n",
      "Epoch 00009: val_loss did not improve from 0.50920\n",
      "638/638 [==============================] - 85s 134ms/step - loss: 0.5884 - acc: 0.7976 - val_loss: 0.5138 - val_acc: 0.8264\n",
      "Epoch 10/10\n",
      "128/128 [==============================] - 13s 103ms/step - loss: 0.5091 - acc: 0.8286\n",
      "\n",
      "Epoch 00010: val_loss improved from 0.50920 to 0.50909, saving model to ./weights/combinedABC_wA.h5\n",
      "638/638 [==============================] - 86s 134ms/step - loss: 0.5768 - acc: 0.7996 - val_loss: 0.5091 - val_acc: 0.8286\n"
     ]
    }
   ],
   "source": [
    "fit_history = model.fit_generator(\n",
    "        train_generator,\n",
    "        steps_per_epoch=100,\n",
    "        epochs = 10,\n",
    "        validation_data = validation_generator,\n",
    "        validation_steps=50,\n",
    "        callbacks=callbacks\n",
    ")"
   ]
  },
  {
   "cell_type": "code",
   "execution_count": 12,
   "metadata": {},
   "outputs": [
    {
     "data": {
      "image/png": "[encoded data removed]",
      "text/plain": [
       "<Figure size 1080x576 with 2 Axes>"
      ]
     },
     "metadata": {
      "needs_background": "light"
     },
     "output_type": "display_data"
    }
   ],
   "source": [
    "plt.figure(1, figsize = (15,8)) \n",
    "    \n",
    "plt.subplot(221)  \n",
    "plt.plot(fit_history.history['acc'])  \n",
    "plt.plot(fit_history.history['val_acc'])  \n",
    "plt.title('model accuracy')  \n",
    "plt.ylabel('accuracy')  \n",
    "plt.xlabel('epoch')  \n",
    "plt.legend(['train', 'valid']) \n",
    "    \n",
    "plt.subplot(222)  \n",
    "plt.plot(fit_history.history['loss'])  \n",
    "plt.plot(fit_history.history['val_loss'])  \n",
    "plt.title('model loss')  \n",
    "plt.ylabel('loss')  \n",
    "plt.xlabel('epoch')  \n",
    "plt.legend(['train', 'valid']) \n",
    "\n",
    "plt.show()"
   ]
  },
  {
   "cell_type": "code",
   "execution_count": 13,
   "metadata": {},
   "outputs": [
    {
     "name": "stdout",
     "output_type": "stream",
     "text": [
      "Found 8744 images belonging to 11 classes.\n"
     ]
    }
   ],
   "source": [
    "test_generator = data_generator.flow_from_directory(\n",
    "    directory = test_path,\n",
    "    target_size = (image_size, image_size),\n",
    "    batch_size = 1,\n",
    "    class_mode = 'categorical',\n",
    "    shuffle = False,\n",
    "    seed = 123\n",
    ")"
   ]
  },
  {
   "cell_type": "code",
   "execution_count": 14,
   "metadata": {},
   "outputs": [
    {
     "name": "stdout",
     "output_type": "stream",
     "text": [
      "8744/8744 [==============================] - 249s 28ms/step - loss: 0.9003 - acc: 0.6970\n",
      "\n",
      "acc: 69.70%\n"
     ]
    }
   ],
   "source": [
    "scores = model.evaluate_generator(generator=test_generator,steps=1,verbose = 1)\n",
    "print(\"\\n%s: %.2f%%\" % (model.metrics_names[1], scores[1]*100))"
   ]
  },
  {
   "cell_type": "code",
   "execution_count": 15,
   "metadata": {},
   "outputs": [
    {
     "name": "stdout",
     "output_type": "stream",
     "text": [
      "8744/8744 [==============================] - 175s 20ms/step\n"
     ]
    }
   ],
   "source": [
    "pred = model.predict_generator(test_generator, steps = len(test_generator), verbose = 1)\n",
    "predicted_class_indices = np.argmax(pred, axis = 1)"
   ]
  },
  {
   "cell_type": "code",
   "execution_count": null,
   "metadata": {},
   "outputs": [],
   "source": []
  }
 ],
 "metadata": {
  "kernelspec": {
   "display_name": "Python 3",
   "language": "python",
   "name": "python3"
  },
  "language_info": {
   "codemirror_mode": {
    "name": "ipython",
    "version": 3
   },
   "file_extension": ".py",
   "mimetype": "text/x-python",
   "name": "python",
   "nbconvert_exporter": "python",
   "pygments_lexer": "ipython3",
   "version": "3.7.3"
  }
 },
 "nbformat": 4,
 "nbformat_minor": 4
}
