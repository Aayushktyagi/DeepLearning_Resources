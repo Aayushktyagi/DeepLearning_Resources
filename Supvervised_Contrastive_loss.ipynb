{
  "nbformat": 4,
  "nbformat_minor": 0,
  "metadata": {
    "colab": {
      "name": "CUP_CNN_SCL",
      "provenance": [],
      "collapsed_sections": [],
      "authorship_tag": "ABX9TyPePNdwvOlCQJIFhcA/0VVM",
      "include_colab_link": true
    },
    "kernelspec": {
      "name": "python3",
      "display_name": "Python 3"
    },
    "accelerator": "GPU"
  },
  "cells": [
    {
      "cell_type": "markdown",
      "metadata": {
        "id": "view-in-github",
        "colab_type": "text"
      },
      "source": [
        "<a href=\"https://colab.research.google.com/github/Aayushktyagi/DeepLearning_Resources/blob/master/Supvervised_Contrastive_loss.ipynb\" target=\"_parent\"><img src=\"https://colab.research.google.com/assets/colab-badge.svg\" alt=\"Open In Colab\"/></a>"
      ]
    },
    {
      "cell_type": "code",
      "metadata": {
        "id": "2k9trZSqBTa8",
        "colab": {
          "base_uri": "https://localhost:8080/"
        },
        "outputId": "26d33661-3fd9-4b37-8e84-33de3b5c1e01"
      },
      "source": [
        "from google.colab import drive\n",
        "drive.mount('/content/drive')"
      ],
      "execution_count": 1,
      "outputs": [
        {
          "output_type": "stream",
          "name": "stdout",
          "text": [
            "Drive already mounted at /content/drive; to attempt to forcibly remount, call drive.mount(\"/content/drive\", force_remount=True).\n"
          ]
        }
      ]
    },
    {
      "cell_type": "code",
      "metadata": {
        "id": "ArHXymjbBmzu"
      },
      "source": [
        "import numpy as np\n",
        "import os\n",
        "import sys\n",
        "import time \n",
        "import tensorflow as tf\n",
        "import pandas as pd \n",
        "from sklearn.model_selection import train_test_split\n",
        "from tensorflow import keras\n",
        "from tensorflow import feature_column\n",
        "from tensorflow.keras import layers\n",
        "from sklearn import preprocessing\n",
        "from sklearn.preprocessing import LabelEncoder\n",
        "from keras.utils import np_utils\n",
        "import tensorflow as tf\n",
        "import tensorflow_addons as tfa\n",
        "from tensorflow.keras.layers import Dense\n",
        "from tensorflow.keras import Model\n",
        "import matplotlib.pyplot as plt\n",
        "import matplotlib.patheffects as PathEffects\n",
        "from sklearn.metrics import confusion_matrix\n",
        "from sklearn.metrics import accuracy_score\n",
        "from sklearn.metrics import classification_report\n",
        "from sklearn import preprocessing\n",
        "from sklearn.decomposition import PCA\n",
        "from sklearn.manifold import TSNE\n",
        "import seaborn as sns\n",
        "from scipy import stats\n",
        "import tensorflow as tf\n",
        "from tensorflow.keras.callbacks import EarlyStopping, ModelCheckpoint, ReduceLROnPlateau"
      ],
      "execution_count": 2,
      "outputs": []
    },
    {
      "cell_type": "code",
      "source": [
        "#Hyperparamter\n",
        "ohe = False\n",
        "projection_units = 128\n",
        "input_shape = (13250,)\n",
        "temperature = 0.005\n",
        "learning_rate = 0.0001\n",
        "epochs = 100"
      ],
      "metadata": {
        "id": "8F0L_Vrq5CJ0"
      },
      "execution_count": 3,
      "outputs": []
    },
    {
      "cell_type": "code",
      "metadata": {
        "id": "NfL9kWWwBntN"
      },
      "source": [
        "dataset_path = '/content/drive/MyDrive/ColabNotebooks/Cancer/CUP/TCGA_FPKM_5_log.csv'"
      ],
      "execution_count": 4,
      "outputs": []
    },
    {
      "cell_type": "code",
      "metadata": {
        "id": "KEwT7NScCiTM",
        "colab": {
          "base_uri": "https://localhost:8080/"
        },
        "outputId": "bc0870bb-b45d-4731-a606-82f970256130"
      },
      "source": [
        "# Data pre-processing\n",
        "# Load dataset\n",
        "raw_dataframe = pd.read_csv(dataset_path, sep=',')\n",
        "dataframe = raw_dataframe.copy()\n",
        "print(dataframe.shape)\n",
        "print(dataframe.head())\n",
        "cat_label = dataframe.pop('label')\n",
        "# drop gene id\n",
        "dataframe = dataframe.drop(['Unnamed: 0'],axis = 1)"
      ],
      "execution_count": 5,
      "outputs": [
        {
          "output_type": "stream",
          "name": "stdout",
          "text": [
            "(14237, 13252)\n",
            "                             Unnamed: 0       A2M  ...    ZNF749  label\n",
            "0  3609e1bc-c1ed-4569-8b06-5c057e360ab6  1.827073  ...  0.291297   MESO\n",
            "1  68a26147-3686-4e65-8eb4-9179b5bc0e57  1.602108  ...  0.274832   MESO\n",
            "2  5da3d163-55d7-4310-bccb-e26e26848318  1.988105  ...  0.250790   MESO\n",
            "3  da1c29c8-a1df-4f08-b685-36c4f308298b  1.639228  ...  0.288733   MESO\n",
            "4  1a3a9d02-12ea-4ab9-9cb8-e333ad51bfb5  2.217213  ...  0.262579   MESO\n",
            "\n",
            "[5 rows x 13252 columns]\n"
          ]
        }
      ]
    },
    {
      "cell_type": "code",
      "metadata": {
        "id": "rMp5zRxXCjjK",
        "colab": {
          "base_uri": "https://localhost:8080/"
        },
        "outputId": "acca2b29-e258-4bf1-de11-b07b32a71ce1"
      },
      "source": [
        "# Dictionary for key value pair of labels \n",
        "num_classes = np.unique(cat_label)\n",
        "le = preprocessing.LabelEncoder()\n",
        "le.fit(cat_label)\n",
        "# print(list(le.classes_))\n",
        "label = le.transform(cat_label)\n",
        "print(\"label:{}\".format(label))"
      ],
      "execution_count": 6,
      "outputs": [
        {
          "output_type": "stream",
          "name": "stdout",
          "text": [
            "label:[19 19 19 ...  6  6  6]\n"
          ]
        }
      ]
    },
    {
      "cell_type": "code",
      "metadata": {
        "id": "ESFtOyYLCnzw",
        "colab": {
          "base_uri": "https://localhost:8080/"
        },
        "outputId": "3d29c2bd-730d-49d6-ea80-fba1a6fa760a"
      },
      "source": [
        "classes_list = list(le.classes_)\n",
        "print(classes_list)"
      ],
      "execution_count": 7,
      "outputs": [
        {
          "output_type": "stream",
          "name": "stdout",
          "text": [
            "['ACC', 'ALL', 'AML', 'BLCA', 'BRAIN', 'BRCA', 'CESC', 'CHOL', 'CML', 'CORE', 'ESCA', 'HNSC', 'KICH', 'KIRC', 'KIRP', 'KIWT', 'LIHC', 'LUAD', 'LUSC', 'MESO', 'MRT', 'NBL', 'NHL', 'OS', 'OV', 'PAAD', 'PCPG', 'PCT', 'PRAD', 'SARC', 'SKCM', 'STAD', 'TGCT', 'THCA', 'THYM', 'UCEC', 'UVM']\n"
          ]
        }
      ]
    },
    {
      "cell_type": "code",
      "metadata": {
        "id": "yEQ6uEj9CsxE",
        "colab": {
          "base_uri": "https://localhost:8080/"
        },
        "outputId": "049fea26-f9a8-47b5-a56b-389e23d27d2f"
      },
      "source": [
        "inv_label = list(le.inverse_transform(label))\n",
        "used = set()\n",
        "ordered_class_list = [x for x in inv_label if x not in used and (used.add(x) or True)]\n",
        "print(ordered_class_list)"
      ],
      "execution_count": 8,
      "outputs": [
        {
          "output_type": "stream",
          "name": "stdout",
          "text": [
            "['MESO', 'BRCA', 'PAAD', 'UVM', 'AML', 'PCT', 'KIRP', 'LIHC', 'OV', 'CML', 'UCEC', 'TGCT', 'MRT', 'NBL', 'KIRC', 'ACC', 'ALL', 'OS', 'PCPG', 'ESCA', 'LUAD', 'KICH', 'HNSC', 'CORE', 'NHL', 'BRAIN', 'KIWT', 'CHOL', 'PRAD', 'BLCA', 'SARC', 'THYM', 'LUSC', 'THCA', 'STAD', 'SKCM', 'CESC']\n"
          ]
        }
      ]
    },
    {
      "cell_type": "code",
      "metadata": {
        "id": "BM4cmzyACtm5"
      },
      "source": [
        "def normal_dataframe(dataframe , norm_type  , normalize = False):\n",
        "    if normalize == True:\n",
        "        if norm_type =='min_max':\n",
        "            min_max_scaler = preprocessing.MinMaxScaler()\n",
        "            dataframe_scaled = min_max_scaler.fit_transform(dataframe)\n",
        "            return dataframe_scaled\n",
        "        \n",
        "        elif norm_type == 'Stand_scaler':\n",
        "            scaler = preprocessing.StandardScaler()\n",
        "            dataframe_scaled = scaler.fit_transform(dataframe)\n",
        "            return dataframe_scaled\n",
        "        \n",
        "        elif norm_type == 'zscore':\n",
        "#             data_stats = dataframe.describe()\n",
        "#             dataframe_scaled = (dataframe - data_stats['mean'])/ dataframe['std']\n",
        "            dataframe_scaled = stats.zscore(dataframe)\n",
        "            return dataframe_scaled\n",
        "        \n",
        "        elif norm_type == 'MaxAbsScaler':\n",
        "            max_abs_scaler = preprocessing.MaxAbsScaler()\n",
        "            dataframe_scaled = max_abs_scaler.fit_transform(dataframe)\n",
        "            return dataframe_scaled\n",
        "            \n",
        "        elif norm_type == 'log_magnitude':\n",
        "            dataframe_scaled = dataframe.apply(lambda x : np.log(x+1)) \n",
        "            return dataframe_scaled.to_numpy()\n",
        "        \n",
        "        elif norm_type == 'log_normalize':\n",
        "            dataframe_scaled = dataframe.apply(lambda x : np.log(x+1))\n",
        "            nlise = preprocessing.Normalizer()\n",
        "            dataframe_normalized = nlise.fit_transform(dataframe_scaled)\n",
        "            return dataframe_normalized\n",
        "    else:\n",
        "        return dataframe.to_numpy()\n",
        "    \n",
        "# dataframe_scaled = normal_dataframe(dataframe ,'Stand_scaler', True)"
      ],
      "execution_count": 9,
      "outputs": []
    },
    {
      "cell_type": "code",
      "metadata": {
        "id": "m5sFQRChpreI"
      },
      "source": [
        "dataframe_scaled = dataframe"
      ],
      "execution_count": 10,
      "outputs": []
    },
    {
      "cell_type": "code",
      "metadata": {
        "id": "PKFiXa-BDKyi",
        "colab": {
          "base_uri": "https://localhost:8080/"
        },
        "outputId": "7bba6377-c47f-4da9-a61d-73b549bf32a4"
      },
      "source": [
        "#Test train Split\n",
        "# dataframe = dataframe.drop(['gene_id'],axis = 1)\n",
        "train, test , Y_train , Y_test = train_test_split(dataframe_scaled, label ,test_size = 0.2)\n",
        "train , val , Y_train , Y_val = train_test_split(train ,Y_train , test_size = 0.2)\n",
        "print(\"trainig data:{}\".format(len(train)))\n",
        "print(\"Validation data:{}\".format(len(val)))\n",
        "print(\"Testing data:{}\".format(len(test)))\n",
        "# print(\"Data Sample:{}\".format(train[0]))"
      ],
      "execution_count": 11,
      "outputs": [
        {
          "output_type": "stream",
          "name": "stdout",
          "text": [
            "trainig data:9111\n",
            "Validation data:2278\n",
            "Testing data:2848\n"
          ]
        }
      ]
    },
    {
      "cell_type": "code",
      "metadata": {
        "id": "z-TtO5mdtYw8"
      },
      "source": [
        "def label_encoder(label):\n",
        "  # encode class values as integers\n",
        "  encoder = LabelEncoder()\n",
        "  encoder.fit(label)\n",
        "  encoded_Y = encoder.transform(label)\n",
        "  # convert integers to dummy variables (i.e. one hot encoded)\n",
        "  dummy_y = np_utils.to_categorical(encoded_Y)\n",
        "  return dummy_y"
      ],
      "execution_count": 12,
      "outputs": []
    },
    {
      "cell_type": "code",
      "metadata": {
        "id": "jIbwO6PItZiF",
        "colab": {
          "base_uri": "https://localhost:8080/"
        },
        "outputId": "96564a0c-ac11-4b88-99e1-9b328bb58964"
      },
      "source": [
        "# creating label one hot encoding\n",
        "if ohe:\n",
        "    train_label_oh = label_encoder(Y_train)\n",
        "    test_label_oh = label_encoder(Y_test)\n",
        "    val_label_oh = label_encoder(Y_val)\n",
        "else:\n",
        "    train_label_oh = Y_train\n",
        "    test_label_oh = Y_test\n",
        "    val_label_oh = Y_val\n",
        "\n",
        "print(\"Data Shape : Train:{} , Val :{} ,Test:{}\".format(np.shape(train) ,np.shape(val), np.shape(test)))\n",
        "print(\"Label Shape :Train:{} , Val :{} ,Test:{}\".format(np.shape(train_label_oh),np.shape(val_label_oh), np.shape(test_label_oh)))\n",
        "# print(train.keys())"
      ],
      "execution_count": 13,
      "outputs": [
        {
          "output_type": "stream",
          "name": "stdout",
          "text": [
            "Data Shape : Train:(9111, 13250) , Val :(2278, 13250) ,Test:(2848, 13250)\n",
            "Label Shape :Train:(9111,) , Val :(2278,) ,Test:(2848,)\n"
          ]
        }
      ]
    },
    {
      "cell_type": "code",
      "metadata": {
        "id": "RZE9o4oCEpvi",
        "colab": {
          "base_uri": "https://localhost:8080/"
        },
        "outputId": "f4063643-dcd1-4fa2-9345-85c86d85e572"
      },
      "source": [
        "# Build encoder model\n",
        "def build_cup_encoder():\n",
        "    encoder_in = tf.keras.Input(input_shape)\n",
        "    layer1 = Dense(10000 , activation = 'relu' , input_shape= (13250,) , name = 'Input')(encoder_in)\n",
        "    layer2 = Dense(5000, activation ='relu' , name = \"Hidden_Layer_2\")(layer1)\n",
        "    layer3 = Dense(1000, activation = 'relu' , name = 'Hidden_layer_3')(layer2)\n",
        "    layer4 = Dense(500, activation = 'relu', name = 'Hidden_layer_4')(layer3)\n",
        "    model = Model(inputs = encoder_in, outputs = layer4, name = 'encoder_model')\n",
        "    return model\n",
        "\n",
        "encoder = build_cup_encoder()\n",
        "encoder.summary()"
      ],
      "execution_count": 14,
      "outputs": [
        {
          "output_type": "stream",
          "name": "stdout",
          "text": [
            "Model: \"encoder_model\"\n",
            "_________________________________________________________________\n",
            " Layer (type)                Output Shape              Param #   \n",
            "=================================================================\n",
            " input_1 (InputLayer)        [(None, 13250)]           0         \n",
            "                                                                 \n",
            " Input (Dense)               (None, 10000)             132510000 \n",
            "                                                                 \n",
            " Hidden_Layer_2 (Dense)      (None, 5000)              50005000  \n",
            "                                                                 \n",
            " Hidden_layer_3 (Dense)      (None, 1000)              5001000   \n",
            "                                                                 \n",
            " Hidden_layer_4 (Dense)      (None, 500)               500500    \n",
            "                                                                 \n",
            "=================================================================\n",
            "Total params: 188,016,500\n",
            "Trainable params: 188,016,500\n",
            "Non-trainable params: 0\n",
            "_________________________________________________________________\n"
          ]
        }
      ]
    },
    {
      "cell_type": "code",
      "source": [
        "def build_classifier(encoder):\n",
        "    classifier_input = tf.keras.Input(input_shape)\n",
        "    encoder_out = build_cup_encoder()(classifier_input)\n",
        "    layer5 = Dense(100 , activation ='relu' , name = 'Hidden_layer_5')(encoder_out)\n",
        "    layer6 = Dense(37 , activation = 'softmax' , name = \"Output_layer\")(layer5)\n",
        "    \n",
        "    model = Model(inputs = classifier_input, outputs = layer6, name = 'classifier_model')\n",
        "    \n",
        "    optimizer = tf.keras.optimizers.Adam(learning_rate=0.0001)\n",
        "    \n",
        "    model.compile(loss = tf.keras.losses.SparseCategoricalCrossentropy(),\n",
        "               optimizer = optimizer,\n",
        "               metrics = [keras.metrics.SparseCategoricalAccuracy()])\n",
        "    \n",
        "    return model\n",
        "\n",
        "classifier = build_classifier(encoder)"
      ],
      "metadata": {
        "id": "xXrnqkcM5M6q"
      },
      "execution_count": 15,
      "outputs": []
    },
    {
      "cell_type": "code",
      "source": [
        "# Self supervised Loss\n",
        "class SupervisedContrastiveLoss(tf.keras.losses.Loss):\n",
        "    def __init__(self, temperature=1, name=None):\n",
        "        super(SupervisedContrastiveLoss, self).__init__(name=name)\n",
        "        self.temperature = temperature\n",
        "\n",
        "    def __call__(self, labels, feature_vectors, sample_weight=None):\n",
        "        # Normalize feature vectors\n",
        "        feature_vectors_normalized = tf.math.l2_normalize(feature_vectors, axis=1)\n",
        "        # Compute logits\n",
        "        logits = tf.divide(\n",
        "            tf.matmul(\n",
        "                feature_vectors_normalized, tf.transpose(feature_vectors_normalized)\n",
        "            ),\n",
        "            self.temperature,\n",
        "        )\n",
        "        return tfa.losses.npairs_loss(tf.squeeze(labels), logits)\n"
      ],
      "metadata": {
        "id": "vCPeJxb-5NpV"
      },
      "execution_count": 16,
      "outputs": []
    },
    {
      "cell_type": "code",
      "source": [
        "# build Projection Head\n",
        "def build_projection_head(encoder):\n",
        "    projection_input = tf.keras.Input(input_shape)\n",
        "    encoder_output = encoder(projection_input)\n",
        "    \n",
        "    projection_layer = Dense(projection_units, activation=\"relu\")(encoder_output)\n",
        "    model = Model(inputs = projection_input, outputs = projection_layer)\n",
        "    return model\n",
        "\n",
        "projection_head = build_projection_head(encoder)"
      ],
      "metadata": {
        "id": "ywgmmeK65cTs"
      },
      "execution_count": 17,
      "outputs": []
    },
    {
      "cell_type": "code",
      "source": [
        "encoder = build_cup_encoder()\n",
        "encoder_with_projection_head = build_projection_head(encoder)\n",
        "encoder_with_projection_head.compile(\n",
        "    optimizer=keras.optimizers.Adam(learning_rate),\n",
        "    loss=SupervisedContrastiveLoss(temperature),\n",
        ")\n",
        "\n",
        "encoder_with_projection_head.summary()"
      ],
      "metadata": {
        "colab": {
          "base_uri": "https://localhost:8080/"
        },
        "id": "Kwsutidk5dUT",
        "outputId": "ac308017-ab39-4172-d3f9-023a89e0e889"
      },
      "execution_count": 18,
      "outputs": [
        {
          "output_type": "stream",
          "name": "stdout",
          "text": [
            "Model: \"model_1\"\n",
            "_________________________________________________________________\n",
            " Layer (type)                Output Shape              Param #   \n",
            "=================================================================\n",
            " input_6 (InputLayer)        [(None, 13250)]           0         \n",
            "                                                                 \n",
            " encoder_model (Functional)  (None, 500)               188016500 \n",
            "                                                                 \n",
            " dense_1 (Dense)             (None, 128)               64128     \n",
            "                                                                 \n",
            "=================================================================\n",
            "Total params: 188,080,628\n",
            "Trainable params: 188,080,628\n",
            "Non-trainable params: 0\n",
            "_________________________________________________________________\n"
          ]
        }
      ]
    },
    {
      "cell_type": "code",
      "source": [
        "# Train SCL\n",
        "history = encoder_with_projection_head.fit(train,train_label_oh,\n",
        "           validation_data=(val,val_label_oh),\n",
        "           epochs = 100,\n",
        "           batch_size = 64,\n",
        "           shuffle = True,\n",
        "           verbose=1)"
      ],
      "metadata": {
        "colab": {
          "base_uri": "https://localhost:8080/"
        },
        "id": "y9vtGdDh5izV",
        "outputId": "06865623-2e80-4ce6-bf27-7b0e26c3a1de"
      },
      "execution_count": 19,
      "outputs": [
        {
          "output_type": "stream",
          "name": "stdout",
          "text": [
            "Epoch 1/100\n",
            "143/143 [==============================] - 17s 102ms/step - loss: 1.7919 - val_loss: 1.4707\n",
            "Epoch 2/100\n",
            "143/143 [==============================] - 13s 91ms/step - loss: 1.4068 - val_loss: 1.4074\n",
            "Epoch 3/100\n",
            "143/143 [==============================] - 13s 91ms/step - loss: 1.3391 - val_loss: 1.3692\n",
            "Epoch 4/100\n",
            "143/143 [==============================] - 14s 96ms/step - loss: 1.3247 - val_loss: 1.3843\n",
            "Epoch 5/100\n",
            "143/143 [==============================] - 14s 96ms/step - loss: 1.3023 - val_loss: 1.3346\n",
            "Epoch 6/100\n",
            "143/143 [==============================] - 13s 91ms/step - loss: 1.2858 - val_loss: 1.3653\n",
            "Epoch 7/100\n",
            "143/143 [==============================] - 13s 92ms/step - loss: 1.2703 - val_loss: 1.3142\n",
            "Epoch 8/100\n",
            "143/143 [==============================] - 14s 95ms/step - loss: 1.2484 - val_loss: 1.3585\n",
            "Epoch 9/100\n",
            "143/143 [==============================] - 13s 91ms/step - loss: 1.2381 - val_loss: 1.3080\n",
            "Epoch 10/100\n",
            "143/143 [==============================] - 14s 95ms/step - loss: 1.2253 - val_loss: 1.3651\n",
            "Epoch 11/100\n",
            "143/143 [==============================] - 14s 95ms/step - loss: 1.2332 - val_loss: 1.3344\n",
            "Epoch 12/100\n",
            "143/143 [==============================] - 13s 91ms/step - loss: 1.2176 - val_loss: 1.3834\n",
            "Epoch 13/100\n",
            "143/143 [==============================] - 13s 91ms/step - loss: 1.2441 - val_loss: 1.3153\n",
            "Epoch 14/100\n",
            "143/143 [==============================] - 14s 95ms/step - loss: 1.2099 - val_loss: 1.3278\n",
            "Epoch 15/100\n",
            "143/143 [==============================] - 13s 91ms/step - loss: 1.2129 - val_loss: 1.3712\n",
            "Epoch 16/100\n",
            "143/143 [==============================] - 13s 91ms/step - loss: 1.2051 - val_loss: 1.3237\n",
            "Epoch 17/100\n",
            "143/143 [==============================] - 14s 96ms/step - loss: 1.1956 - val_loss: 1.4109\n",
            "Epoch 18/100\n",
            "143/143 [==============================] - 13s 91ms/step - loss: 1.1919 - val_loss: 1.3360\n",
            "Epoch 19/100\n",
            "143/143 [==============================] - 13s 91ms/step - loss: 1.1832 - val_loss: 1.2970\n",
            "Epoch 20/100\n",
            "143/143 [==============================] - 14s 95ms/step - loss: 1.1808 - val_loss: 1.2930\n",
            "Epoch 21/100\n",
            "143/143 [==============================] - 14s 95ms/step - loss: 1.1668 - val_loss: 1.3012\n",
            "Epoch 22/100\n",
            "143/143 [==============================] - 13s 91ms/step - loss: 1.1785 - val_loss: 1.3090\n",
            "Epoch 23/100\n",
            "143/143 [==============================] - 13s 91ms/step - loss: 1.1598 - val_loss: 1.3146\n",
            "Epoch 24/100\n",
            "143/143 [==============================] - 13s 94ms/step - loss: 1.1553 - val_loss: 1.3092\n",
            "Epoch 25/100\n",
            "143/143 [==============================] - 13s 90ms/step - loss: 1.1544 - val_loss: 1.2978\n",
            "Epoch 26/100\n",
            "143/143 [==============================] - 13s 94ms/step - loss: 1.1476 - val_loss: 1.3018\n",
            "Epoch 27/100\n",
            "143/143 [==============================] - 13s 91ms/step - loss: 1.1604 - val_loss: 1.2834\n",
            "Epoch 28/100\n",
            "143/143 [==============================] - 13s 91ms/step - loss: 1.1629 - val_loss: 1.2948\n",
            "Epoch 29/100\n",
            "143/143 [==============================] - 13s 91ms/step - loss: 1.1528 - val_loss: 1.3240\n",
            "Epoch 30/100\n",
            "143/143 [==============================] - 13s 91ms/step - loss: 1.1523 - val_loss: 1.3290\n",
            "Epoch 31/100\n",
            "143/143 [==============================] - 13s 91ms/step - loss: 1.1559 - val_loss: 1.3179\n",
            "Epoch 32/100\n",
            "143/143 [==============================] - 13s 90ms/step - loss: 1.1494 - val_loss: 1.2997\n",
            "Epoch 33/100\n",
            "143/143 [==============================] - 13s 91ms/step - loss: 1.1478 - val_loss: 1.3042\n",
            "Epoch 34/100\n",
            "143/143 [==============================] - 13s 94ms/step - loss: 1.1405 - val_loss: 1.3066\n",
            "Epoch 35/100\n",
            "143/143 [==============================] - 13s 90ms/step - loss: 1.1520 - val_loss: 1.2840\n",
            "Epoch 36/100\n",
            "143/143 [==============================] - 13s 91ms/step - loss: 1.1455 - val_loss: 1.3035\n",
            "Epoch 37/100\n",
            "143/143 [==============================] - 13s 90ms/step - loss: 1.1352 - val_loss: 1.3180\n",
            "Epoch 38/100\n",
            "143/143 [==============================] - 14s 95ms/step - loss: 1.1308 - val_loss: 1.2961\n",
            "Epoch 39/100\n",
            "143/143 [==============================] - 13s 90ms/step - loss: 1.1300 - val_loss: 1.3048\n",
            "Epoch 40/100\n",
            "143/143 [==============================] - 13s 91ms/step - loss: 1.1438 - val_loss: 1.2968\n",
            "Epoch 41/100\n",
            "143/143 [==============================] - 13s 91ms/step - loss: 1.1448 - val_loss: 1.3713\n",
            "Epoch 42/100\n",
            "143/143 [==============================] - 13s 94ms/step - loss: 1.1447 - val_loss: 1.3110\n",
            "Epoch 43/100\n",
            "143/143 [==============================] - 14s 94ms/step - loss: 1.1362 - val_loss: 1.3200\n",
            "Epoch 44/100\n",
            "143/143 [==============================] - 14s 95ms/step - loss: 1.1319 - val_loss: 1.3295\n",
            "Epoch 45/100\n",
            "143/143 [==============================] - 14s 95ms/step - loss: 1.1403 - val_loss: 1.3213\n",
            "Epoch 46/100\n",
            "143/143 [==============================] - 13s 91ms/step - loss: 1.1460 - val_loss: 1.3672\n",
            "Epoch 47/100\n",
            "143/143 [==============================] - 13s 91ms/step - loss: 1.1338 - val_loss: 1.3453\n",
            "Epoch 48/100\n",
            "143/143 [==============================] - 14s 95ms/step - loss: 1.1267 - val_loss: 1.3307\n",
            "Epoch 49/100\n",
            "143/143 [==============================] - 13s 91ms/step - loss: 1.1379 - val_loss: 1.3185\n",
            "Epoch 50/100\n",
            "143/143 [==============================] - 14s 95ms/step - loss: 1.1403 - val_loss: 1.2982\n",
            "Epoch 51/100\n",
            "143/143 [==============================] - 13s 91ms/step - loss: 1.1362 - val_loss: 1.3047\n",
            "Epoch 52/100\n",
            "143/143 [==============================] - 13s 91ms/step - loss: 1.1317 - val_loss: 1.3302\n",
            "Epoch 53/100\n",
            "143/143 [==============================] - 14s 95ms/step - loss: 1.1418 - val_loss: 1.3310\n",
            "Epoch 54/100\n",
            "143/143 [==============================] - 13s 90ms/step - loss: 1.1561 - val_loss: 1.3376\n",
            "Epoch 55/100\n",
            "143/143 [==============================] - 13s 90ms/step - loss: 1.1392 - val_loss: 1.3534\n",
            "Epoch 56/100\n",
            "143/143 [==============================] - 14s 95ms/step - loss: 1.1359 - val_loss: 1.3164\n",
            "Epoch 57/100\n",
            "143/143 [==============================] - 13s 91ms/step - loss: 1.1220 - val_loss: 1.3187\n",
            "Epoch 58/100\n",
            "143/143 [==============================] - 13s 91ms/step - loss: 1.1378 - val_loss: 1.3986\n",
            "Epoch 59/100\n",
            "143/143 [==============================] - 13s 91ms/step - loss: 1.1433 - val_loss: 1.3413\n",
            "Epoch 60/100\n",
            "143/143 [==============================] - 14s 95ms/step - loss: 1.1475 - val_loss: 1.3359\n",
            "Epoch 61/100\n",
            "143/143 [==============================] - 13s 90ms/step - loss: 1.1304 - val_loss: 1.3163\n",
            "Epoch 62/100\n",
            "143/143 [==============================] - 14s 94ms/step - loss: 1.1295 - val_loss: 1.3180\n",
            "Epoch 63/100\n",
            "143/143 [==============================] - 13s 91ms/step - loss: 1.1326 - val_loss: 1.3194\n",
            "Epoch 64/100\n",
            "143/143 [==============================] - 13s 91ms/step - loss: 1.1464 - val_loss: 1.3040\n",
            "Epoch 65/100\n",
            "143/143 [==============================] - 14s 95ms/step - loss: 1.1338 - val_loss: 1.3226\n",
            "Epoch 66/100\n",
            "143/143 [==============================] - 14s 95ms/step - loss: 1.1303 - val_loss: 1.3227\n",
            "Epoch 67/100\n",
            "143/143 [==============================] - 13s 91ms/step - loss: 1.1311 - val_loss: 1.3124\n",
            "Epoch 68/100\n",
            "143/143 [==============================] - 14s 95ms/step - loss: 1.1297 - val_loss: 1.3138\n",
            "Epoch 69/100\n",
            "143/143 [==============================] - 13s 91ms/step - loss: 1.1293 - val_loss: 1.3287\n",
            "Epoch 70/100\n",
            "143/143 [==============================] - 13s 91ms/step - loss: 1.1333 - val_loss: 1.3403\n",
            "Epoch 71/100\n",
            "143/143 [==============================] - 14s 95ms/step - loss: 1.1449 - val_loss: 1.3531\n",
            "Epoch 72/100\n",
            "143/143 [==============================] - 14s 95ms/step - loss: 1.1389 - val_loss: 1.3172\n",
            "Epoch 73/100\n",
            "143/143 [==============================] - 14s 95ms/step - loss: 1.1345 - val_loss: 1.3203\n",
            "Epoch 74/100\n",
            "143/143 [==============================] - 13s 91ms/step - loss: 1.1252 - val_loss: 1.3081\n",
            "Epoch 75/100\n",
            "143/143 [==============================] - 14s 95ms/step - loss: 1.1301 - val_loss: 1.3050\n",
            "Epoch 76/100\n",
            "143/143 [==============================] - 14s 95ms/step - loss: 1.1323 - val_loss: 1.3139\n",
            "Epoch 77/100\n",
            "143/143 [==============================] - 13s 94ms/step - loss: 1.1277 - val_loss: 1.3084\n",
            "Epoch 78/100\n",
            "143/143 [==============================] - 13s 91ms/step - loss: 1.1332 - val_loss: 1.3185\n",
            "Epoch 79/100\n",
            "143/143 [==============================] - 14s 95ms/step - loss: 1.1284 - val_loss: 1.3206\n",
            "Epoch 80/100\n",
            "143/143 [==============================] - 13s 91ms/step - loss: 1.1330 - val_loss: 1.3230\n",
            "Epoch 81/100\n",
            "143/143 [==============================] - 13s 91ms/step - loss: 1.1283 - val_loss: 1.3264\n",
            "Epoch 82/100\n",
            "143/143 [==============================] - 13s 91ms/step - loss: 1.1266 - val_loss: 1.3352\n",
            "Epoch 83/100\n",
            "143/143 [==============================] - 14s 95ms/step - loss: 1.1331 - val_loss: 1.3295\n",
            "Epoch 84/100\n",
            "143/143 [==============================] - 13s 91ms/step - loss: 1.1224 - val_loss: 1.3406\n",
            "Epoch 85/100\n",
            "143/143 [==============================] - 13s 92ms/step - loss: 1.1285 - val_loss: 1.3416\n",
            "Epoch 86/100\n",
            "143/143 [==============================] - 14s 95ms/step - loss: 1.1218 - val_loss: 1.3461\n",
            "Epoch 87/100\n",
            "143/143 [==============================] - 13s 91ms/step - loss: 1.1219 - val_loss: 1.3439\n",
            "Epoch 88/100\n",
            "143/143 [==============================] - 14s 95ms/step - loss: 1.1312 - val_loss: 1.4719\n",
            "Epoch 89/100\n",
            "143/143 [==============================] - 13s 91ms/step - loss: 1.1664 - val_loss: 1.3230\n",
            "Epoch 90/100\n",
            "143/143 [==============================] - 13s 91ms/step - loss: 1.1653 - val_loss: 1.3309\n",
            "Epoch 91/100\n",
            "143/143 [==============================] - 14s 95ms/step - loss: 1.1362 - val_loss: 1.3058\n",
            "Epoch 92/100\n",
            "143/143 [==============================] - 14s 95ms/step - loss: 1.1357 - val_loss: 1.2976\n",
            "Epoch 93/100\n",
            "143/143 [==============================] - 13s 91ms/step - loss: 1.1367 - val_loss: 1.3256\n",
            "Epoch 94/100\n",
            "143/143 [==============================] - 13s 91ms/step - loss: 1.1355 - val_loss: 1.3060\n",
            "Epoch 95/100\n",
            "143/143 [==============================] - 14s 95ms/step - loss: 1.1405 - val_loss: 1.3016\n",
            "Epoch 96/100\n",
            "143/143 [==============================] - 13s 91ms/step - loss: 1.1282 - val_loss: 1.3241\n",
            "Epoch 97/100\n",
            "143/143 [==============================] - 13s 91ms/step - loss: 1.1338 - val_loss: 1.3048\n",
            "Epoch 98/100\n",
            "143/143 [==============================] - 13s 91ms/step - loss: 1.1347 - val_loss: 1.3288\n",
            "Epoch 99/100\n",
            "143/143 [==============================] - 14s 95ms/step - loss: 1.1421 - val_loss: 1.3073\n",
            "Epoch 100/100\n",
            "143/143 [==============================] - 13s 91ms/step - loss: 1.1332 - val_loss: 1.3195\n"
          ]
        }
      ]
    },
    {
      "cell_type": "code",
      "source": [
        "classifier = build_classifier(encoder)"
      ],
      "metadata": {
        "id": "zuBdRBDp5l7g"
      },
      "execution_count": 20,
      "outputs": []
    },
    {
      "cell_type": "code",
      "source": [
        "callbacks = [\n",
        "    EarlyStopping(patience=25, verbose=1,monitor='val_loss'),\n",
        "    ReduceLROnPlateau(factor=0.05, patience=15, min_lr=0.000000001, verbose=1,monitor='val_loss'),\n",
        "    # ModelCheckpoint('/home/aayush.t/Ashick/CUP/Model/CUP_DNN_defaultNonorm_tcga.h5', verbose=1, save_best_only=True, save_weights_only=True)\n",
        "]\n"
      ],
      "metadata": {
        "id": "9CbicO4jed2m"
      },
      "execution_count": null,
      "outputs": []
    },
    {
      "cell_type": "code",
      "source": [
        "#Model training \n",
        "history = classifier.fit(\n",
        "           train,train_label_oh,\n",
        "           validation_data=(val,val_label_oh),\n",
        "           epochs = 100,\n",
        "           batch_size = 32,\n",
        "           shuffle = True,\n",
        "           callbacks=callbacks,\n",
        "           verbose=1)"
      ],
      "metadata": {
        "colab": {
          "base_uri": "https://localhost:8080/"
        },
        "id": "_MHw632j5oID",
        "outputId": "93416210-705c-4c0f-c69f-9af8d9ec9f6e"
      },
      "execution_count": 21,
      "outputs": [
        {
          "output_type": "stream",
          "name": "stdout",
          "text": [
            "Epoch 1/100\n",
            "285/285 [==============================] - 25s 87ms/step - loss: 1.2930 - sparse_categorical_accuracy: 0.6690 - val_loss: 0.4737 - val_sparse_categorical_accuracy: 0.8630\n",
            "Epoch 2/100\n",
            "285/285 [==============================] - 24s 84ms/step - loss: 0.3316 - sparse_categorical_accuracy: 0.9054 - val_loss: 0.2277 - val_sparse_categorical_accuracy: 0.9447\n",
            "Epoch 3/100\n",
            "285/285 [==============================] - 24s 84ms/step - loss: 0.2461 - sparse_categorical_accuracy: 0.9294 - val_loss: 0.2336 - val_sparse_categorical_accuracy: 0.9390\n",
            "Epoch 4/100\n",
            "285/285 [==============================] - 24s 83ms/step - loss: 0.2086 - sparse_categorical_accuracy: 0.9405 - val_loss: 0.3525 - val_sparse_categorical_accuracy: 0.9004\n",
            "Epoch 5/100\n",
            "285/285 [==============================] - 24s 83ms/step - loss: 0.1925 - sparse_categorical_accuracy: 0.9451 - val_loss: 0.2985 - val_sparse_categorical_accuracy: 0.9025\n",
            "Epoch 6/100\n",
            "285/285 [==============================] - 24s 83ms/step - loss: 0.1623 - sparse_categorical_accuracy: 0.9516 - val_loss: 0.2113 - val_sparse_categorical_accuracy: 0.9469\n",
            "Epoch 7/100\n",
            "285/285 [==============================] - 24s 83ms/step - loss: 0.1430 - sparse_categorical_accuracy: 0.9572 - val_loss: 0.1740 - val_sparse_categorical_accuracy: 0.9504\n",
            "Epoch 8/100\n",
            "285/285 [==============================] - 24s 83ms/step - loss: 0.1326 - sparse_categorical_accuracy: 0.9588 - val_loss: 0.1814 - val_sparse_categorical_accuracy: 0.9412\n",
            "Epoch 9/100\n",
            "285/285 [==============================] - 24s 83ms/step - loss: 0.1265 - sparse_categorical_accuracy: 0.9611 - val_loss: 0.1903 - val_sparse_categorical_accuracy: 0.9504\n",
            "Epoch 10/100\n",
            "285/285 [==============================] - 24s 83ms/step - loss: 0.1310 - sparse_categorical_accuracy: 0.9597 - val_loss: 0.1729 - val_sparse_categorical_accuracy: 0.9513\n",
            "Epoch 11/100\n",
            "285/285 [==============================] - 24s 83ms/step - loss: 0.1090 - sparse_categorical_accuracy: 0.9671 - val_loss: 0.1574 - val_sparse_categorical_accuracy: 0.9631\n",
            "Epoch 12/100\n",
            "285/285 [==============================] - 24s 83ms/step - loss: 0.1169 - sparse_categorical_accuracy: 0.9624 - val_loss: 0.3653 - val_sparse_categorical_accuracy: 0.8907\n",
            "Epoch 13/100\n",
            "285/285 [==============================] - 24s 83ms/step - loss: 0.0996 - sparse_categorical_accuracy: 0.9698 - val_loss: 0.2084 - val_sparse_categorical_accuracy: 0.9469\n",
            "Epoch 14/100\n",
            "285/285 [==============================] - 24s 83ms/step - loss: 0.0984 - sparse_categorical_accuracy: 0.9667 - val_loss: 0.1804 - val_sparse_categorical_accuracy: 0.9631\n",
            "Epoch 15/100\n",
            "285/285 [==============================] - 24s 83ms/step - loss: 0.0802 - sparse_categorical_accuracy: 0.9749 - val_loss: 0.1738 - val_sparse_categorical_accuracy: 0.9570\n",
            "Epoch 16/100\n",
            "285/285 [==============================] - 24s 83ms/step - loss: 0.0875 - sparse_categorical_accuracy: 0.9740 - val_loss: 0.2059 - val_sparse_categorical_accuracy: 0.9486\n",
            "Epoch 17/100\n",
            "285/285 [==============================] - 24s 83ms/step - loss: 0.0866 - sparse_categorical_accuracy: 0.9728 - val_loss: 0.1410 - val_sparse_categorical_accuracy: 0.9671\n",
            "Epoch 18/100\n",
            "285/285 [==============================] - 24s 83ms/step - loss: 0.0735 - sparse_categorical_accuracy: 0.9741 - val_loss: 0.1394 - val_sparse_categorical_accuracy: 0.9680\n",
            "Epoch 19/100\n",
            "285/285 [==============================] - 24s 83ms/step - loss: 0.0729 - sparse_categorical_accuracy: 0.9755 - val_loss: 0.1684 - val_sparse_categorical_accuracy: 0.9579\n",
            "Epoch 20/100\n",
            "285/285 [==============================] - 24s 83ms/step - loss: 0.0705 - sparse_categorical_accuracy: 0.9784 - val_loss: 0.1937 - val_sparse_categorical_accuracy: 0.9565\n",
            "Epoch 21/100\n",
            "285/285 [==============================] - 24s 83ms/step - loss: 0.0625 - sparse_categorical_accuracy: 0.9791 - val_loss: 0.1121 - val_sparse_categorical_accuracy: 0.9737\n",
            "Epoch 22/100\n",
            "285/285 [==============================] - 24s 84ms/step - loss: 0.0728 - sparse_categorical_accuracy: 0.9768 - val_loss: 0.1448 - val_sparse_categorical_accuracy: 0.9644\n",
            "Epoch 23/100\n",
            "285/285 [==============================] - 24s 83ms/step - loss: 0.0521 - sparse_categorical_accuracy: 0.9824 - val_loss: 0.1345 - val_sparse_categorical_accuracy: 0.9715\n",
            "Epoch 24/100\n",
            "285/285 [==============================] - 24s 83ms/step - loss: 0.0586 - sparse_categorical_accuracy: 0.9817 - val_loss: 0.1735 - val_sparse_categorical_accuracy: 0.9596\n",
            "Epoch 25/100\n",
            "285/285 [==============================] - 24s 83ms/step - loss: 0.0589 - sparse_categorical_accuracy: 0.9802 - val_loss: 0.1931 - val_sparse_categorical_accuracy: 0.9504\n",
            "Epoch 26/100\n",
            "285/285 [==============================] - 24s 83ms/step - loss: 0.0432 - sparse_categorical_accuracy: 0.9861 - val_loss: 0.1717 - val_sparse_categorical_accuracy: 0.9631\n",
            "Epoch 27/100\n",
            "285/285 [==============================] - 24s 83ms/step - loss: 0.0507 - sparse_categorical_accuracy: 0.9839 - val_loss: 0.2310 - val_sparse_categorical_accuracy: 0.9412\n",
            "Epoch 28/100\n",
            "285/285 [==============================] - 24s 83ms/step - loss: 0.0490 - sparse_categorical_accuracy: 0.9835 - val_loss: 0.1615 - val_sparse_categorical_accuracy: 0.9662\n",
            "Epoch 29/100\n",
            "285/285 [==============================] - 24s 83ms/step - loss: 0.0443 - sparse_categorical_accuracy: 0.9849 - val_loss: 0.1728 - val_sparse_categorical_accuracy: 0.9574\n",
            "Epoch 30/100\n",
            "285/285 [==============================] - 24s 84ms/step - loss: 0.0408 - sparse_categorical_accuracy: 0.9864 - val_loss: 0.1650 - val_sparse_categorical_accuracy: 0.9662\n",
            "Epoch 31/100\n",
            "285/285 [==============================] - 24s 84ms/step - loss: 0.0421 - sparse_categorical_accuracy: 0.9851 - val_loss: 0.1363 - val_sparse_categorical_accuracy: 0.9759\n",
            "Epoch 32/100\n",
            "285/285 [==============================] - 24s 83ms/step - loss: 0.0506 - sparse_categorical_accuracy: 0.9847 - val_loss: 0.2155 - val_sparse_categorical_accuracy: 0.9565\n",
            "Epoch 33/100\n",
            "285/285 [==============================] - 24s 84ms/step - loss: 0.0461 - sparse_categorical_accuracy: 0.9857 - val_loss: 0.2170 - val_sparse_categorical_accuracy: 0.9543\n",
            "Epoch 34/100\n",
            "285/285 [==============================] - 24s 84ms/step - loss: 0.0381 - sparse_categorical_accuracy: 0.9885 - val_loss: 0.1586 - val_sparse_categorical_accuracy: 0.9715\n",
            "Epoch 35/100\n",
            "285/285 [==============================] - 24s 84ms/step - loss: 0.0456 - sparse_categorical_accuracy: 0.9865 - val_loss: 0.2034 - val_sparse_categorical_accuracy: 0.9530\n",
            "Epoch 36/100\n",
            "285/285 [==============================] - 24s 83ms/step - loss: 0.0427 - sparse_categorical_accuracy: 0.9865 - val_loss: 0.1501 - val_sparse_categorical_accuracy: 0.9710\n",
            "Epoch 37/100\n",
            "285/285 [==============================] - 24s 83ms/step - loss: 0.0358 - sparse_categorical_accuracy: 0.9884 - val_loss: 0.2004 - val_sparse_categorical_accuracy: 0.9614\n",
            "Epoch 38/100\n",
            "285/285 [==============================] - 24s 84ms/step - loss: 0.0404 - sparse_categorical_accuracy: 0.9869 - val_loss: 0.1441 - val_sparse_categorical_accuracy: 0.9741\n",
            "Epoch 39/100\n",
            "285/285 [==============================] - 24s 83ms/step - loss: 0.0247 - sparse_categorical_accuracy: 0.9924 - val_loss: 0.1504 - val_sparse_categorical_accuracy: 0.9741\n",
            "Epoch 40/100\n",
            "285/285 [==============================] - 24s 83ms/step - loss: 0.0305 - sparse_categorical_accuracy: 0.9903 - val_loss: 0.1811 - val_sparse_categorical_accuracy: 0.9675\n",
            "Epoch 41/100\n",
            "285/285 [==============================] - 24s 83ms/step - loss: 0.0261 - sparse_categorical_accuracy: 0.9907 - val_loss: 0.1689 - val_sparse_categorical_accuracy: 0.9644\n",
            "Epoch 42/100\n",
            "285/285 [==============================] - 24s 84ms/step - loss: 0.0363 - sparse_categorical_accuracy: 0.9880 - val_loss: 0.1535 - val_sparse_categorical_accuracy: 0.9728\n",
            "Epoch 43/100\n",
            "285/285 [==============================] - 24s 84ms/step - loss: 0.0171 - sparse_categorical_accuracy: 0.9940 - val_loss: 0.2460 - val_sparse_categorical_accuracy: 0.9522\n",
            "Epoch 44/100\n",
            "285/285 [==============================] - 24s 83ms/step - loss: 0.0481 - sparse_categorical_accuracy: 0.9855 - val_loss: 0.1866 - val_sparse_categorical_accuracy: 0.9614\n",
            "Epoch 45/100\n",
            "285/285 [==============================] - 24s 83ms/step - loss: 0.0351 - sparse_categorical_accuracy: 0.9888 - val_loss: 0.1585 - val_sparse_categorical_accuracy: 0.9719\n",
            "Epoch 46/100\n",
            "285/285 [==============================] - 24s 84ms/step - loss: 0.0180 - sparse_categorical_accuracy: 0.9952 - val_loss: 0.1724 - val_sparse_categorical_accuracy: 0.9715\n",
            "Epoch 47/100\n",
            "285/285 [==============================] - 24s 83ms/step - loss: 0.0196 - sparse_categorical_accuracy: 0.9941 - val_loss: 0.1618 - val_sparse_categorical_accuracy: 0.9741\n",
            "Epoch 48/100\n",
            "285/285 [==============================] - 24s 83ms/step - loss: 0.0245 - sparse_categorical_accuracy: 0.9919 - val_loss: 0.1816 - val_sparse_categorical_accuracy: 0.9697\n",
            "Epoch 49/100\n",
            "285/285 [==============================] - 24s 83ms/step - loss: 0.0338 - sparse_categorical_accuracy: 0.9886 - val_loss: 0.1696 - val_sparse_categorical_accuracy: 0.9653\n",
            "Epoch 50/100\n",
            "285/285 [==============================] - 24s 83ms/step - loss: 0.0202 - sparse_categorical_accuracy: 0.9928 - val_loss: 0.2722 - val_sparse_categorical_accuracy: 0.9513\n",
            "Epoch 51/100\n",
            "285/285 [==============================] - 24s 84ms/step - loss: 0.0239 - sparse_categorical_accuracy: 0.9934 - val_loss: 0.1889 - val_sparse_categorical_accuracy: 0.9658\n",
            "Epoch 52/100\n",
            "285/285 [==============================] - 24s 83ms/step - loss: 0.0125 - sparse_categorical_accuracy: 0.9958 - val_loss: 0.2034 - val_sparse_categorical_accuracy: 0.9618\n",
            "Epoch 53/100\n",
            "285/285 [==============================] - 24s 83ms/step - loss: 0.0329 - sparse_categorical_accuracy: 0.9902 - val_loss: 0.1570 - val_sparse_categorical_accuracy: 0.9750\n",
            "Epoch 54/100\n",
            "285/285 [==============================] - 24s 83ms/step - loss: 0.0285 - sparse_categorical_accuracy: 0.9901 - val_loss: 0.2142 - val_sparse_categorical_accuracy: 0.9627\n",
            "Epoch 55/100\n",
            "285/285 [==============================] - 24s 84ms/step - loss: 0.0341 - sparse_categorical_accuracy: 0.9889 - val_loss: 0.1532 - val_sparse_categorical_accuracy: 0.9759\n",
            "Epoch 56/100\n",
            "285/285 [==============================] - 24s 84ms/step - loss: 0.0209 - sparse_categorical_accuracy: 0.9932 - val_loss: 0.1653 - val_sparse_categorical_accuracy: 0.9649\n",
            "Epoch 57/100\n",
            "285/285 [==============================] - 24s 84ms/step - loss: 0.0213 - sparse_categorical_accuracy: 0.9926 - val_loss: 0.1546 - val_sparse_categorical_accuracy: 0.9732\n",
            "Epoch 58/100\n",
            "285/285 [==============================] - 24s 84ms/step - loss: 0.0173 - sparse_categorical_accuracy: 0.9952 - val_loss: 0.2089 - val_sparse_categorical_accuracy: 0.9649\n",
            "Epoch 59/100\n",
            "285/285 [==============================] - 24s 84ms/step - loss: 0.0306 - sparse_categorical_accuracy: 0.9911 - val_loss: 0.1653 - val_sparse_categorical_accuracy: 0.9715\n",
            "Epoch 60/100\n",
            "285/285 [==============================] - 24s 83ms/step - loss: 0.0423 - sparse_categorical_accuracy: 0.9887 - val_loss: 0.1634 - val_sparse_categorical_accuracy: 0.9763\n",
            "Epoch 61/100\n",
            "285/285 [==============================] - 24s 84ms/step - loss: 0.0162 - sparse_categorical_accuracy: 0.9950 - val_loss: 0.1492 - val_sparse_categorical_accuracy: 0.9785\n",
            "Epoch 62/100\n",
            "285/285 [==============================] - 24s 84ms/step - loss: 0.0184 - sparse_categorical_accuracy: 0.9943 - val_loss: 0.3237 - val_sparse_categorical_accuracy: 0.9363\n",
            "Epoch 63/100\n",
            "285/285 [==============================] - 24s 84ms/step - loss: 0.0207 - sparse_categorical_accuracy: 0.9930 - val_loss: 0.1531 - val_sparse_categorical_accuracy: 0.9745\n",
            "Epoch 64/100\n",
            "285/285 [==============================] - 24s 84ms/step - loss: 0.0310 - sparse_categorical_accuracy: 0.9905 - val_loss: 0.1481 - val_sparse_categorical_accuracy: 0.9737\n",
            "Epoch 65/100\n",
            "285/285 [==============================] - 24s 84ms/step - loss: 0.0171 - sparse_categorical_accuracy: 0.9950 - val_loss: 0.2612 - val_sparse_categorical_accuracy: 0.9500\n",
            "Epoch 66/100\n",
            "285/285 [==============================] - 24s 84ms/step - loss: 0.0154 - sparse_categorical_accuracy: 0.9945 - val_loss: 0.1653 - val_sparse_categorical_accuracy: 0.9759\n",
            "Epoch 67/100\n",
            "285/285 [==============================] - 24s 84ms/step - loss: 0.0298 - sparse_categorical_accuracy: 0.9902 - val_loss: 0.2410 - val_sparse_categorical_accuracy: 0.9579\n",
            "Epoch 68/100\n",
            "285/285 [==============================] - 24s 84ms/step - loss: 0.0201 - sparse_categorical_accuracy: 0.9946 - val_loss: 0.1726 - val_sparse_categorical_accuracy: 0.9759\n",
            "Epoch 69/100\n",
            "285/285 [==============================] - 24s 84ms/step - loss: 0.0242 - sparse_categorical_accuracy: 0.9921 - val_loss: 0.1987 - val_sparse_categorical_accuracy: 0.9693\n",
            "Epoch 70/100\n",
            "285/285 [==============================] - 24s 84ms/step - loss: 0.0086 - sparse_categorical_accuracy: 0.9977 - val_loss: 0.1584 - val_sparse_categorical_accuracy: 0.9741\n",
            "Epoch 71/100\n",
            "285/285 [==============================] - 24s 84ms/step - loss: 0.0259 - sparse_categorical_accuracy: 0.9929 - val_loss: 0.1963 - val_sparse_categorical_accuracy: 0.9732\n",
            "Epoch 72/100\n",
            "285/285 [==============================] - 24s 84ms/step - loss: 0.0191 - sparse_categorical_accuracy: 0.9939 - val_loss: 0.1824 - val_sparse_categorical_accuracy: 0.9741\n",
            "Epoch 73/100\n",
            "285/285 [==============================] - 24s 84ms/step - loss: 0.0118 - sparse_categorical_accuracy: 0.9965 - val_loss: 0.1676 - val_sparse_categorical_accuracy: 0.9745\n",
            "Epoch 74/100\n",
            "285/285 [==============================] - 24s 84ms/step - loss: 0.0327 - sparse_categorical_accuracy: 0.9891 - val_loss: 0.1624 - val_sparse_categorical_accuracy: 0.9750\n",
            "Epoch 75/100\n",
            "285/285 [==============================] - 24s 84ms/step - loss: 0.0304 - sparse_categorical_accuracy: 0.9912 - val_loss: 0.1701 - val_sparse_categorical_accuracy: 0.9715\n",
            "Epoch 76/100\n",
            "285/285 [==============================] - 24s 84ms/step - loss: 0.0150 - sparse_categorical_accuracy: 0.9957 - val_loss: 0.1328 - val_sparse_categorical_accuracy: 0.9802\n",
            "Epoch 77/100\n",
            "285/285 [==============================] - 24s 84ms/step - loss: 0.0063 - sparse_categorical_accuracy: 0.9986 - val_loss: 0.1598 - val_sparse_categorical_accuracy: 0.9785\n",
            "Epoch 78/100\n",
            "285/285 [==============================] - 24s 84ms/step - loss: 0.0048 - sparse_categorical_accuracy: 0.9985 - val_loss: 0.2282 - val_sparse_categorical_accuracy: 0.9653\n",
            "Epoch 79/100\n",
            "285/285 [==============================] - 24s 84ms/step - loss: 0.0282 - sparse_categorical_accuracy: 0.9919 - val_loss: 0.2017 - val_sparse_categorical_accuracy: 0.9649\n",
            "Epoch 80/100\n",
            "285/285 [==============================] - 24s 84ms/step - loss: 0.0233 - sparse_categorical_accuracy: 0.9924 - val_loss: 0.1606 - val_sparse_categorical_accuracy: 0.9723\n",
            "Epoch 81/100\n",
            "285/285 [==============================] - 24s 84ms/step - loss: 0.0032 - sparse_categorical_accuracy: 0.9991 - val_loss: 0.1802 - val_sparse_categorical_accuracy: 0.9759\n",
            "Epoch 82/100\n",
            "285/285 [==============================] - 24s 84ms/step - loss: 0.0042 - sparse_categorical_accuracy: 0.9986 - val_loss: 0.2136 - val_sparse_categorical_accuracy: 0.9701\n",
            "Epoch 83/100\n",
            "285/285 [==============================] - 24s 84ms/step - loss: 0.0339 - sparse_categorical_accuracy: 0.9917 - val_loss: 0.1723 - val_sparse_categorical_accuracy: 0.9710\n",
            "Epoch 84/100\n",
            "285/285 [==============================] - 24s 84ms/step - loss: 0.0205 - sparse_categorical_accuracy: 0.9932 - val_loss: 0.2291 - val_sparse_categorical_accuracy: 0.9631\n",
            "Epoch 85/100\n",
            "285/285 [==============================] - 24s 84ms/step - loss: 0.0209 - sparse_categorical_accuracy: 0.9931 - val_loss: 0.1805 - val_sparse_categorical_accuracy: 0.9723\n",
            "Epoch 86/100\n",
            "285/285 [==============================] - 24s 84ms/step - loss: 0.0053 - sparse_categorical_accuracy: 0.9984 - val_loss: 0.1631 - val_sparse_categorical_accuracy: 0.9772\n",
            "Epoch 87/100\n",
            "285/285 [==============================] - 24s 84ms/step - loss: 0.0141 - sparse_categorical_accuracy: 0.9954 - val_loss: 0.1850 - val_sparse_categorical_accuracy: 0.9732\n",
            "Epoch 88/100\n",
            "285/285 [==============================] - 24s 84ms/step - loss: 0.0205 - sparse_categorical_accuracy: 0.9940 - val_loss: 0.1881 - val_sparse_categorical_accuracy: 0.9693\n",
            "Epoch 89/100\n",
            "285/285 [==============================] - 24s 84ms/step - loss: 0.0063 - sparse_categorical_accuracy: 0.9975 - val_loss: 0.1779 - val_sparse_categorical_accuracy: 0.9763\n",
            "Epoch 90/100\n",
            "285/285 [==============================] - 24s 84ms/step - loss: 0.0135 - sparse_categorical_accuracy: 0.9962 - val_loss: 0.1765 - val_sparse_categorical_accuracy: 0.9741\n",
            "Epoch 91/100\n",
            "285/285 [==============================] - 24s 84ms/step - loss: 0.0264 - sparse_categorical_accuracy: 0.9910 - val_loss: 0.1664 - val_sparse_categorical_accuracy: 0.9750\n",
            "Epoch 92/100\n",
            "285/285 [==============================] - 24s 84ms/step - loss: 0.0205 - sparse_categorical_accuracy: 0.9942 - val_loss: 0.2543 - val_sparse_categorical_accuracy: 0.9609\n",
            "Epoch 93/100\n",
            "285/285 [==============================] - 24s 84ms/step - loss: 0.0185 - sparse_categorical_accuracy: 0.9940 - val_loss: 0.1813 - val_sparse_categorical_accuracy: 0.9750\n",
            "Epoch 94/100\n",
            "285/285 [==============================] - 24s 84ms/step - loss: 0.0071 - sparse_categorical_accuracy: 0.9979 - val_loss: 0.1925 - val_sparse_categorical_accuracy: 0.9728\n",
            "Epoch 95/100\n",
            "285/285 [==============================] - 24s 84ms/step - loss: 0.0045 - sparse_categorical_accuracy: 0.9987 - val_loss: 0.1754 - val_sparse_categorical_accuracy: 0.9745\n",
            "Epoch 96/100\n",
            "285/285 [==============================] - 24s 84ms/step - loss: 0.0115 - sparse_categorical_accuracy: 0.9973 - val_loss: 0.1695 - val_sparse_categorical_accuracy: 0.9763\n",
            "Epoch 97/100\n",
            "285/285 [==============================] - 24s 84ms/step - loss: 0.0190 - sparse_categorical_accuracy: 0.9943 - val_loss: 0.1925 - val_sparse_categorical_accuracy: 0.9741\n",
            "Epoch 98/100\n",
            "285/285 [==============================] - 24s 84ms/step - loss: 0.0032 - sparse_categorical_accuracy: 0.9992 - val_loss: 0.1682 - val_sparse_categorical_accuracy: 0.9789\n",
            "Epoch 99/100\n",
            "285/285 [==============================] - 24s 84ms/step - loss: 1.8289e-04 - sparse_categorical_accuracy: 1.0000 - val_loss: 0.1872 - val_sparse_categorical_accuracy: 0.9807\n",
            "Epoch 100/100\n",
            "285/285 [==============================] - 24s 84ms/step - loss: 0.0345 - sparse_categorical_accuracy: 0.9891 - val_loss: 0.1713 - val_sparse_categorical_accuracy: 0.9728\n"
          ]
        }
      ]
    },
    {
      "cell_type": "code",
      "metadata": {
        "id": "FnzpjdLtE_zB",
        "colab": {
          "base_uri": "https://localhost:8080/",
          "height": 621
        },
        "outputId": "f17088c9-68ba-4582-e02f-d0dd080ac397"
      },
      "source": [
        "#Results visualization\n",
        "def showloss(history):\n",
        "        # loss plot\n",
        "        plt.subplots(figsize=(15,10))\n",
        "        plt.subplot(2,1,1)\n",
        "        plt.plot(history.history['loss'])\n",
        "        plt.plot(history.history['val_loss'])\n",
        "        plt.title('Model loss')\n",
        "        plt.xlabel('epochs')\n",
        "        plt.ylabel('loss')\n",
        "        plt.legend(['Train','Validation'],loc = 'upper left')\n",
        "\n",
        "        #accuracy plot\n",
        "        plt.subplot(2,1,2)\n",
        "        plt.plot(history.history['sparse_categorical_accuracy'])\n",
        "        plt.plot(history.history['val_sparse_categorical_accuracy'])\n",
        "        plt.title('Accuracy')\n",
        "        plt.xlabel('epochs')\n",
        "        plt.ylabel('accuracy')\n",
        "        plt.legend(['Train','Validation'] , loc = 'upper left')\n",
        "        plt.show()\n",
        "\n",
        "showloss(history)"
      ],
      "execution_count": 22,
      "outputs": [
        {
          "output_type": "display_data",
          "data": {
            "image/png": "[encoded data removed]",
            "text/plain": [
              "<Figure size 1080x720 with 2 Axes>"
            ]
          },
          "metadata": {
            "needs_background": "light"
          }
        }
      ]
    },
    {
      "cell_type": "code",
      "source": [
        "def predict(test):\n",
        "    predictions = classifier.predict(test, verbose = 1)\n",
        "    predict_index = predictions.argmax(axis=1)\n",
        "    test_index = test_label_oh\n",
        "    results = confusion_matrix(test_index , predict_index)\n",
        "\n",
        "\n",
        "    #Classification accuracy\n",
        "    accuracy = accuracy_score(test_index,predict_index)\n",
        "    print(\"Classification accuracy:{}\".format(accuracy))\n",
        "    print()\n",
        "    print(accuracy)\n",
        "\n",
        "    #Classification report \n",
        "    classify_report = classification_report(test_index,predict_index)\n",
        "    print(\"Classification report\")\n",
        "    print(classify_report)\n",
        "    \n",
        "    return test_label_oh, predictions, test_index, predict_index\n",
        "    \n",
        "test_label_oh, predictions, test_index, predict_index = predict(test)"
      ],
      "metadata": {
        "colab": {
          "base_uri": "https://localhost:8080/"
        },
        "id": "7O2YSl825w2O",
        "outputId": "f80dccff-3dba-4d2f-891c-6c9eb8028bd6"
      },
      "execution_count": 23,
      "outputs": [
        {
          "output_type": "stream",
          "name": "stdout",
          "text": [
            "89/89 [==============================] - 2s 16ms/step\n",
            "Classification accuracy:0.9764747191011236\n",
            "\n",
            "0.9764747191011236\n",
            "Classification report\n",
            "              precision    recall  f1-score   support\n",
            "\n",
            "           0       1.00      1.00      1.00        17\n",
            "           1       1.00      0.98      0.99       126\n",
            "           2       0.98      0.98      0.98       175\n",
            "           3       0.99      0.93      0.96        84\n",
            "           4       1.00      0.98      0.99       161\n",
            "           5       0.98      1.00      0.99       235\n",
            "           6       0.99      0.93      0.96        82\n",
            "           7       0.75      0.60      0.67        10\n",
            "           8       0.83      0.94      0.88        16\n",
            "           9       0.99      1.00      1.00       116\n",
            "          10       0.87      0.97      0.92        34\n",
            "          11       0.95      0.97      0.96       113\n",
            "          12       1.00      0.93      0.96        14\n",
            "          13       0.95      0.98      0.96       144\n",
            "          14       0.98      0.88      0.93        60\n",
            "          15       1.00      1.00      1.00        27\n",
            "          16       0.97      0.94      0.96        69\n",
            "          17       0.97      0.95      0.96       131\n",
            "          18       0.94      0.94      0.94       128\n",
            "          19       1.00      1.00      1.00        17\n",
            "          20       1.00      1.00      1.00        16\n",
            "          21       0.97      1.00      0.98        28\n",
            "          22       1.00      0.99      1.00       134\n",
            "          23       1.00      1.00      1.00        21\n",
            "          24       0.99      0.98      0.98        95\n",
            "          25       0.97      0.97      0.97        35\n",
            "          26       1.00      1.00      1.00        32\n",
            "          27       1.00      1.00      1.00       161\n",
            "          28       1.00      1.00      1.00       100\n",
            "          29       0.92      1.00      0.96        47\n",
            "          30       1.00      1.00      1.00        22\n",
            "          31       0.97      0.95      0.96        75\n",
            "          32       0.97      1.00      0.99        34\n",
            "          33       0.99      1.00      1.00       104\n",
            "          34       1.00      1.00      1.00        25\n",
            "          35       0.95      1.00      0.97       145\n",
            "          36       1.00      1.00      1.00        15\n",
            "\n",
            "    accuracy                           0.98      2848\n",
            "   macro avg       0.97      0.97      0.97      2848\n",
            "weighted avg       0.98      0.98      0.98      2848\n",
            "\n"
          ]
        }
      ]
    },
    {
      "cell_type": "code",
      "source": [
        ""
      ],
      "metadata": {
        "id": "N_dUom1pKKQm"
      },
      "execution_count": 23,
      "outputs": []
    }
  ]
}