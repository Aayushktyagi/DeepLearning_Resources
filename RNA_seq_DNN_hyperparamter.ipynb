{
  "nbformat": 4,
  "nbformat_minor": 0,
  "metadata": {
    "colab": {
      "name": "RNA_seq_DNN_hyperparamter.ipynb",
      "provenance": [],
      "collapsed_sections": [],
      "authorship_tag": "ABX9TyPJCVEkWvzQe8m8EY6uRgf3",
      "include_colab_link": true
    },
    "kernelspec": {
      "name": "python3",
      "display_name": "Python 3"
    }
  },
  "cells": [
    {
      "cell_type": "markdown",
      "metadata": {
        "id": "view-in-github",
        "colab_type": "text"
      },
      "source": [
        "<a href=\"https://colab.research.google.com/github/Aayushktyagi/DeepLearning_Resources/blob/master/RNA_seq_DNN_hyperparamter.ipynb\" target=\"_parent\"><img src=\"https://colab.research.google.com/assets/colab-badge.svg\" alt=\"Open In Colab\"/></a>"
      ]
    },
    {
      "cell_type": "code",
      "metadata": {
        "id": "R9blyEWvQQAR",
        "colab": {
          "base_uri": "https://localhost:8080/"
        },
        "outputId": "5a382e76-5f96-48a0-cca7-17b1ba67f6be"
      },
      "source": [
        "from google.colab import drive\n",
        "drive.mount('/content/drive')"
      ],
      "execution_count": null,
      "outputs": [
        {
          "output_type": "stream",
          "text": [
            "Drive already mounted at /content/drive; to attempt to forcibly remount, call drive.mount(\"/content/drive\", force_remount=True).\n"
          ],
          "name": "stdout"
        }
      ]
    },
    {
      "cell_type": "code",
      "metadata": {
        "id": "lR4kGLXOT1je"
      },
      "source": [
        "# Load the TensorBoard notebook extension\n",
        "%load_ext tensorboard\n",
        "\n",
        "# Clear any logs from previous runs\n",
        "!rm -rf ./logs/ "
      ],
      "execution_count": null,
      "outputs": []
    },
    {
      "cell_type": "code",
      "metadata": {
        "id": "l13q3jKRQ7FG"
      },
      "source": [
        "import time\n",
        "import numpy as np\n",
        "import pandas as pd \n",
        "import tensorflow as tf \n",
        "import sklearn \n",
        "import tensorflow.keras.backend as K\n",
        "from tensorflow import keras\n",
        "from tensorflow import feature_column\n",
        "from tensorflow.keras import layers\n",
        "from tensorflow.keras.callbacks import EarlyStopping, ModelCheckpoint, ReduceLROnPlateau\n",
        "from sklearn.preprocessing import LabelEncoder\n",
        "from sklearn import preprocessing\n",
        "from sklearn.decomposition import PCA\n",
        "from sklearn.manifold import TSNE\n",
        "import seaborn as sns\n",
        "from scipy import stats\n",
        "from sklearn.metrics import confusion_matrix\n",
        "from sklearn.metrics import accuracy_score\n",
        "from sklearn.metrics import classification_report\n",
        "import matplotlib.pyplot as plt\n",
        "import matplotlib.patheffects as PathEffects\n",
        "from sklearn.model_selection import train_test_split\n",
        "from keras.utils import np_utils\n",
        "from tensorboard.plugins.hparams import api as hp"
      ],
      "execution_count": null,
      "outputs": []
    },
    {
      "cell_type": "code",
      "metadata": {
        "colab": {
          "base_uri": "https://localhost:8080/",
          "height": 342
        },
        "id": "KKCy8pBKQ-B9",
        "outputId": "2f1f0493-414a-47ae-90c9-871dc5e39270"
      },
      "source": [
        "filepath = '/content/drive/My Drive/ColabNotebooks/Cancer/RNA_seq_labeled_primary.csv'\n",
        "raw_data = pd.read_csv(filepath, sep = ',')\n",
        "raw_data.head()\n",
        "dataframe = raw_data.copy()\n",
        "# data = data.drop(data.index[0])\n",
        "dataframe.head()"
      ],
      "execution_count": null,
      "outputs": [
        {
          "output_type": "execute_result",
          "data": {
            "text/html": [
              "<div>\n",
              "<style scoped>\n",
              "    .dataframe tbody tr th:only-of-type {\n",
              "        vertical-align: middle;\n",
              "    }\n",
              "\n",
              "    .dataframe tbody tr th {\n",
              "        vertical-align: top;\n",
              "    }\n",
              "\n",
              "    .dataframe thead th {\n",
              "        text-align: right;\n",
              "    }\n",
              "</style>\n",
              "<table border=\"1\" class=\"dataframe\">\n",
              "  <thead>\n",
              "    <tr style=\"text-align: right;\">\n",
              "      <th></th>\n",
              "      <th>sampleID</th>\n",
              "      <th>ARHGEF10L</th>\n",
              "      <th>HIF3A</th>\n",
              "      <th>RNF17</th>\n",
              "      <th>RNF10</th>\n",
              "      <th>RNF11</th>\n",
              "      <th>RNF13</th>\n",
              "      <th>GTF2IP1</th>\n",
              "      <th>REM1</th>\n",
              "      <th>MTVR2</th>\n",
              "      <th>RTN4RL2</th>\n",
              "      <th>C16orf13</th>\n",
              "      <th>C16orf11</th>\n",
              "      <th>FGFR1OP2</th>\n",
              "      <th>TSKS</th>\n",
              "      <th>ATRX</th>\n",
              "      <th>PMM2</th>\n",
              "      <th>LOC100272146</th>\n",
              "      <th>ASS1</th>\n",
              "      <th>NCBP1</th>\n",
              "      <th>ZNF709</th>\n",
              "      <th>ZNF708</th>\n",
              "      <th>RBM14</th>\n",
              "      <th>NCBP2</th>\n",
              "      <th>DISC1</th>\n",
              "      <th>CAMK1</th>\n",
              "      <th>RPL37</th>\n",
              "      <th>SPR</th>\n",
              "      <th>ZNF700</th>\n",
              "      <th>ZNF707</th>\n",
              "      <th>CAMK4</th>\n",
              "      <th>ZNF704</th>\n",
              "      <th>LOC339240</th>\n",
              "      <th>GOLGA6B</th>\n",
              "      <th>RNF115</th>\n",
              "      <th>RNF112</th>\n",
              "      <th>ZC3H14</th>\n",
              "      <th>SPN</th>\n",
              "      <th>HMGCLL1</th>\n",
              "      <th>NACAP1</th>\n",
              "      <th>...</th>\n",
              "      <th>ACAP2</th>\n",
              "      <th>ACAP3</th>\n",
              "      <th>LUZP4</th>\n",
              "      <th>OR10J5</th>\n",
              "      <th>LUZP6</th>\n",
              "      <th>C1orf198</th>\n",
              "      <th>CFL2</th>\n",
              "      <th>CFL1</th>\n",
              "      <th>OR10J3</th>\n",
              "      <th>C8orf83</th>\n",
              "      <th>C1orf192</th>\n",
              "      <th>PLAA</th>\n",
              "      <th>C8orf80</th>\n",
              "      <th>C8orf86</th>\n",
              "      <th>C8orf85</th>\n",
              "      <th>C8orf84</th>\n",
              "      <th>NFIC</th>\n",
              "      <th>NFIB</th>\n",
              "      <th>H1FOO</th>\n",
              "      <th>NFIX</th>\n",
              "      <th>PLEKHG6</th>\n",
              "      <th>PLEKHG7</th>\n",
              "      <th>PLEKHG4</th>\n",
              "      <th>PLEKHG5</th>\n",
              "      <th>SLC7A14</th>\n",
              "      <th>SELE</th>\n",
              "      <th>SLC7A10</th>\n",
              "      <th>PLA2G2C</th>\n",
              "      <th>METTL11A</th>\n",
              "      <th>TULP2</th>\n",
              "      <th>NPY5R</th>\n",
              "      <th>GNGT2</th>\n",
              "      <th>GNGT1</th>\n",
              "      <th>TULP3</th>\n",
              "      <th>PTRF</th>\n",
              "      <th>BCL6B</th>\n",
              "      <th>GSTK1</th>\n",
              "      <th>SELP</th>\n",
              "      <th>SELS</th>\n",
              "      <th>label</th>\n",
              "    </tr>\n",
              "  </thead>\n",
              "  <tbody>\n",
              "    <tr>\n",
              "      <th>0</th>\n",
              "      <td>TCGA-CA-5256-01</td>\n",
              "      <td>10.1616</td>\n",
              "      <td>3.7172</td>\n",
              "      <td>0.0000</td>\n",
              "      <td>10.4857</td>\n",
              "      <td>10.5157</td>\n",
              "      <td>11.1805</td>\n",
              "      <td>11.3755</td>\n",
              "      <td>2.7680</td>\n",
              "      <td>0.0000</td>\n",
              "      <td>2.2321</td>\n",
              "      <td>10.4496</td>\n",
              "      <td>0.0000</td>\n",
              "      <td>8.8640</td>\n",
              "      <td>0.0000</td>\n",
              "      <td>9.3775</td>\n",
              "      <td>11.2484</td>\n",
              "      <td>6.1007</td>\n",
              "      <td>13.4524</td>\n",
              "      <td>10.7642</td>\n",
              "      <td>6.7441</td>\n",
              "      <td>7.7266</td>\n",
              "      <td>9.9810</td>\n",
              "      <td>11.9751</td>\n",
              "      <td>4.8262</td>\n",
              "      <td>8.6103</td>\n",
              "      <td>14.4843</td>\n",
              "      <td>10.9548</td>\n",
              "      <td>8.4412</td>\n",
              "      <td>6.9918</td>\n",
              "      <td>3.0698</td>\n",
              "      <td>6.5216</td>\n",
              "      <td>0.0</td>\n",
              "      <td>0.0000</td>\n",
              "      <td>8.1044</td>\n",
              "      <td>1.3702</td>\n",
              "      <td>9.5912</td>\n",
              "      <td>5.5207</td>\n",
              "      <td>2.0600</td>\n",
              "      <td>7.5548</td>\n",
              "      <td>...</td>\n",
              "      <td>9.8673</td>\n",
              "      <td>8.4951</td>\n",
              "      <td>0.0</td>\n",
              "      <td>0.0</td>\n",
              "      <td>11.8241</td>\n",
              "      <td>9.1441</td>\n",
              "      <td>7.6565</td>\n",
              "      <td>14.5395</td>\n",
              "      <td>0.0</td>\n",
              "      <td>10.4282</td>\n",
              "      <td>1.8646</td>\n",
              "      <td>9.9139</td>\n",
              "      <td>2.7680</td>\n",
              "      <td>0.0000</td>\n",
              "      <td>1.0403</td>\n",
              "      <td>6.6637</td>\n",
              "      <td>7.5262</td>\n",
              "      <td>8.4565</td>\n",
              "      <td>0.0</td>\n",
              "      <td>9.3462</td>\n",
              "      <td>10.5922</td>\n",
              "      <td>3.7740</td>\n",
              "      <td>8.6320</td>\n",
              "      <td>8.5671</td>\n",
              "      <td>0.0000</td>\n",
              "      <td>4.1624</td>\n",
              "      <td>1.3702</td>\n",
              "      <td>0.0</td>\n",
              "      <td>10.2633</td>\n",
              "      <td>0.0</td>\n",
              "      <td>0.0000</td>\n",
              "      <td>4.0747</td>\n",
              "      <td>0.6119</td>\n",
              "      <td>8.0334</td>\n",
              "      <td>9.4792</td>\n",
              "      <td>5.7645</td>\n",
              "      <td>12.5517</td>\n",
              "      <td>3.9322</td>\n",
              "      <td>10.8937</td>\n",
              "      <td>Stage IIA</td>\n",
              "    </tr>\n",
              "    <tr>\n",
              "      <th>1</th>\n",
              "      <td>TCGA-AZ-6599-01</td>\n",
              "      <td>11.1212</td>\n",
              "      <td>2.3437</td>\n",
              "      <td>0.0000</td>\n",
              "      <td>11.6878</td>\n",
              "      <td>10.3830</td>\n",
              "      <td>9.9166</td>\n",
              "      <td>11.9240</td>\n",
              "      <td>2.4817</td>\n",
              "      <td>0.0000</td>\n",
              "      <td>3.4169</td>\n",
              "      <td>9.7643</td>\n",
              "      <td>0.0000</td>\n",
              "      <td>8.8247</td>\n",
              "      <td>0.0000</td>\n",
              "      <td>10.0715</td>\n",
              "      <td>10.5191</td>\n",
              "      <td>5.5343</td>\n",
              "      <td>12.1302</td>\n",
              "      <td>10.6109</td>\n",
              "      <td>6.2459</td>\n",
              "      <td>6.7480</td>\n",
              "      <td>10.4944</td>\n",
              "      <td>10.8831</td>\n",
              "      <td>6.5712</td>\n",
              "      <td>6.9435</td>\n",
              "      <td>13.9471</td>\n",
              "      <td>10.3406</td>\n",
              "      <td>8.1277</td>\n",
              "      <td>7.2890</td>\n",
              "      <td>4.9331</td>\n",
              "      <td>7.9725</td>\n",
              "      <td>0.0</td>\n",
              "      <td>0.0000</td>\n",
              "      <td>8.0904</td>\n",
              "      <td>2.4817</td>\n",
              "      <td>10.4349</td>\n",
              "      <td>5.6704</td>\n",
              "      <td>0.5941</td>\n",
              "      <td>7.4532</td>\n",
              "      <td>...</td>\n",
              "      <td>9.7920</td>\n",
              "      <td>9.5212</td>\n",
              "      <td>0.0</td>\n",
              "      <td>0.0</td>\n",
              "      <td>11.1356</td>\n",
              "      <td>10.2243</td>\n",
              "      <td>6.9869</td>\n",
              "      <td>14.2384</td>\n",
              "      <td>0.0</td>\n",
              "      <td>10.2780</td>\n",
              "      <td>4.0699</td>\n",
              "      <td>9.2377</td>\n",
              "      <td>1.3383</td>\n",
              "      <td>0.5941</td>\n",
              "      <td>1.3383</td>\n",
              "      <td>10.4418</td>\n",
              "      <td>8.9842</td>\n",
              "      <td>9.3824</td>\n",
              "      <td>0.0</td>\n",
              "      <td>11.3403</td>\n",
              "      <td>9.8757</td>\n",
              "      <td>5.8970</td>\n",
              "      <td>10.6252</td>\n",
              "      <td>8.7413</td>\n",
              "      <td>0.0000</td>\n",
              "      <td>2.7234</td>\n",
              "      <td>0.0000</td>\n",
              "      <td>0.0</td>\n",
              "      <td>8.9257</td>\n",
              "      <td>0.0</td>\n",
              "      <td>0.5941</td>\n",
              "      <td>1.8268</td>\n",
              "      <td>1.3383</td>\n",
              "      <td>8.3262</td>\n",
              "      <td>8.9279</td>\n",
              "      <td>4.8842</td>\n",
              "      <td>11.6017</td>\n",
              "      <td>4.1549</td>\n",
              "      <td>10.5855</td>\n",
              "      <td>Stage I</td>\n",
              "    </tr>\n",
              "    <tr>\n",
              "      <th>2</th>\n",
              "      <td>TCGA-AA-3655-01</td>\n",
              "      <td>11.0245</td>\n",
              "      <td>2.0858</td>\n",
              "      <td>0.5495</td>\n",
              "      <td>11.5062</td>\n",
              "      <td>9.9334</td>\n",
              "      <td>9.6560</td>\n",
              "      <td>11.6354</td>\n",
              "      <td>3.7064</td>\n",
              "      <td>0.9465</td>\n",
              "      <td>3.3607</td>\n",
              "      <td>9.4322</td>\n",
              "      <td>0.5495</td>\n",
              "      <td>8.6209</td>\n",
              "      <td>0.9465</td>\n",
              "      <td>11.0433</td>\n",
              "      <td>10.9326</td>\n",
              "      <td>5.9695</td>\n",
              "      <td>12.5693</td>\n",
              "      <td>10.6616</td>\n",
              "      <td>6.0423</td>\n",
              "      <td>6.8519</td>\n",
              "      <td>10.6599</td>\n",
              "      <td>10.5108</td>\n",
              "      <td>7.4840</td>\n",
              "      <td>7.7608</td>\n",
              "      <td>13.1868</td>\n",
              "      <td>10.1857</td>\n",
              "      <td>8.1032</td>\n",
              "      <td>6.9740</td>\n",
              "      <td>2.3709</td>\n",
              "      <td>7.4690</td>\n",
              "      <td>0.0</td>\n",
              "      <td>0.5495</td>\n",
              "      <td>7.9735</td>\n",
              "      <td>2.4947</td>\n",
              "      <td>10.1151</td>\n",
              "      <td>6.8577</td>\n",
              "      <td>1.7303</td>\n",
              "      <td>6.9253</td>\n",
              "      <td>...</td>\n",
              "      <td>10.2136</td>\n",
              "      <td>8.9868</td>\n",
              "      <td>0.0</td>\n",
              "      <td>0.0</td>\n",
              "      <td>12.3580</td>\n",
              "      <td>10.5249</td>\n",
              "      <td>7.3346</td>\n",
              "      <td>14.7722</td>\n",
              "      <td>0.0</td>\n",
              "      <td>9.3289</td>\n",
              "      <td>3.4853</td>\n",
              "      <td>9.7248</td>\n",
              "      <td>1.9190</td>\n",
              "      <td>0.0000</td>\n",
              "      <td>1.5132</td>\n",
              "      <td>5.1793</td>\n",
              "      <td>9.0101</td>\n",
              "      <td>9.6241</td>\n",
              "      <td>0.0</td>\n",
              "      <td>11.0373</td>\n",
              "      <td>9.6741</td>\n",
              "      <td>2.9917</td>\n",
              "      <td>9.5785</td>\n",
              "      <td>9.7169</td>\n",
              "      <td>0.5495</td>\n",
              "      <td>5.7998</td>\n",
              "      <td>0.0000</td>\n",
              "      <td>0.0</td>\n",
              "      <td>9.2596</td>\n",
              "      <td>0.0</td>\n",
              "      <td>0.0000</td>\n",
              "      <td>3.9851</td>\n",
              "      <td>0.5495</td>\n",
              "      <td>8.9149</td>\n",
              "      <td>10.6716</td>\n",
              "      <td>7.0262</td>\n",
              "      <td>12.4103</td>\n",
              "      <td>6.0321</td>\n",
              "      <td>10.3551</td>\n",
              "      <td>Stage II</td>\n",
              "    </tr>\n",
              "    <tr>\n",
              "      <th>3</th>\n",
              "      <td>TCGA-A6-6137-01</td>\n",
              "      <td>11.0576</td>\n",
              "      <td>6.0759</td>\n",
              "      <td>0.0000</td>\n",
              "      <td>11.7053</td>\n",
              "      <td>10.2443</td>\n",
              "      <td>10.2250</td>\n",
              "      <td>11.3220</td>\n",
              "      <td>2.8994</td>\n",
              "      <td>0.0000</td>\n",
              "      <td>4.0206</td>\n",
              "      <td>9.1701</td>\n",
              "      <td>0.0000</td>\n",
              "      <td>8.7443</td>\n",
              "      <td>0.5474</td>\n",
              "      <td>10.7429</td>\n",
              "      <td>10.8209</td>\n",
              "      <td>5.9307</td>\n",
              "      <td>12.7200</td>\n",
              "      <td>10.4519</td>\n",
              "      <td>6.0759</td>\n",
              "      <td>7.1520</td>\n",
              "      <td>10.5990</td>\n",
              "      <td>11.5216</td>\n",
              "      <td>6.2953</td>\n",
              "      <td>7.7983</td>\n",
              "      <td>13.1937</td>\n",
              "      <td>10.1062</td>\n",
              "      <td>8.2577</td>\n",
              "      <td>8.2023</td>\n",
              "      <td>4.1387</td>\n",
              "      <td>8.4432</td>\n",
              "      <td>0.0</td>\n",
              "      <td>0.9434</td>\n",
              "      <td>8.2984</td>\n",
              "      <td>3.5941</td>\n",
              "      <td>10.2082</td>\n",
              "      <td>8.0598</td>\n",
              "      <td>2.0809</td>\n",
              "      <td>6.9834</td>\n",
              "      <td>...</td>\n",
              "      <td>10.4387</td>\n",
              "      <td>9.2880</td>\n",
              "      <td>0.0</td>\n",
              "      <td>0.0</td>\n",
              "      <td>11.7345</td>\n",
              "      <td>9.7900</td>\n",
              "      <td>7.2861</td>\n",
              "      <td>14.5882</td>\n",
              "      <td>0.0</td>\n",
              "      <td>9.6269</td>\n",
              "      <td>4.2124</td>\n",
              "      <td>9.5920</td>\n",
              "      <td>4.2825</td>\n",
              "      <td>0.0000</td>\n",
              "      <td>2.2303</td>\n",
              "      <td>4.6169</td>\n",
              "      <td>9.0023</td>\n",
              "      <td>9.7930</td>\n",
              "      <td>0.0</td>\n",
              "      <td>11.4779</td>\n",
              "      <td>10.8237</td>\n",
              "      <td>4.1004</td>\n",
              "      <td>10.4159</td>\n",
              "      <td>8.7035</td>\n",
              "      <td>0.0000</td>\n",
              "      <td>5.4719</td>\n",
              "      <td>0.0000</td>\n",
              "      <td>0.0</td>\n",
              "      <td>9.0675</td>\n",
              "      <td>0.0</td>\n",
              "      <td>4.2124</td>\n",
              "      <td>3.7507</td>\n",
              "      <td>1.7258</td>\n",
              "      <td>8.4940</td>\n",
              "      <td>10.5038</td>\n",
              "      <td>6.9352</td>\n",
              "      <td>11.2349</td>\n",
              "      <td>6.3616</td>\n",
              "      <td>10.2726</td>\n",
              "      <td>Stage IIIB</td>\n",
              "    </tr>\n",
              "    <tr>\n",
              "      <th>4</th>\n",
              "      <td>TCGA-CK-4952-01</td>\n",
              "      <td>10.5660</td>\n",
              "      <td>1.9506</td>\n",
              "      <td>0.0000</td>\n",
              "      <td>11.8684</td>\n",
              "      <td>9.8537</td>\n",
              "      <td>9.9356</td>\n",
              "      <td>11.4306</td>\n",
              "      <td>2.6602</td>\n",
              "      <td>0.4950</td>\n",
              "      <td>4.6048</td>\n",
              "      <td>9.3126</td>\n",
              "      <td>0.0000</td>\n",
              "      <td>9.1254</td>\n",
              "      <td>0.0000</td>\n",
              "      <td>9.8556</td>\n",
              "      <td>10.9294</td>\n",
              "      <td>5.0941</td>\n",
              "      <td>12.0369</td>\n",
              "      <td>11.0042</td>\n",
              "      <td>4.5301</td>\n",
              "      <td>5.7496</td>\n",
              "      <td>11.0857</td>\n",
              "      <td>10.5637</td>\n",
              "      <td>6.4625</td>\n",
              "      <td>6.5073</td>\n",
              "      <td>13.5306</td>\n",
              "      <td>9.4557</td>\n",
              "      <td>7.8924</td>\n",
              "      <td>8.4951</td>\n",
              "      <td>1.1557</td>\n",
              "      <td>7.5645</td>\n",
              "      <td>0.0</td>\n",
              "      <td>0.0000</td>\n",
              "      <td>8.1717</td>\n",
              "      <td>2.3486</td>\n",
              "      <td>10.4859</td>\n",
              "      <td>5.0049</td>\n",
              "      <td>1.7891</td>\n",
              "      <td>7.9097</td>\n",
              "      <td>...</td>\n",
              "      <td>9.5390</td>\n",
              "      <td>9.9513</td>\n",
              "      <td>0.0</td>\n",
              "      <td>0.0</td>\n",
              "      <td>11.3376</td>\n",
              "      <td>10.5269</td>\n",
              "      <td>7.6075</td>\n",
              "      <td>14.3301</td>\n",
              "      <td>0.0</td>\n",
              "      <td>9.3664</td>\n",
              "      <td>3.5912</td>\n",
              "      <td>9.8652</td>\n",
              "      <td>1.3991</td>\n",
              "      <td>0.0000</td>\n",
              "      <td>0.4950</td>\n",
              "      <td>10.8802</td>\n",
              "      <td>8.4951</td>\n",
              "      <td>9.4498</td>\n",
              "      <td>0.0</td>\n",
              "      <td>10.7055</td>\n",
              "      <td>9.9930</td>\n",
              "      <td>3.4362</td>\n",
              "      <td>9.4035</td>\n",
              "      <td>8.6309</td>\n",
              "      <td>0.0000</td>\n",
              "      <td>2.8359</td>\n",
              "      <td>0.0000</td>\n",
              "      <td>0.0</td>\n",
              "      <td>9.4047</td>\n",
              "      <td>0.0</td>\n",
              "      <td>0.0000</td>\n",
              "      <td>2.8359</td>\n",
              "      <td>0.0000</td>\n",
              "      <td>9.4633</td>\n",
              "      <td>10.4412</td>\n",
              "      <td>6.7306</td>\n",
              "      <td>10.5621</td>\n",
              "      <td>3.6394</td>\n",
              "      <td>9.9296</td>\n",
              "      <td>Stage IIIC</td>\n",
              "    </tr>\n",
              "  </tbody>\n",
              "</table>\n",
              "<p>5 rows × 20532 columns</p>\n",
              "</div>"
            ],
            "text/plain": [
              "          sampleID  ARHGEF10L   HIF3A  ...    SELP     SELS       label\n",
              "0  TCGA-CA-5256-01    10.1616  3.7172  ...  3.9322  10.8937   Stage IIA\n",
              "1  TCGA-AZ-6599-01    11.1212  2.3437  ...  4.1549  10.5855     Stage I\n",
              "2  TCGA-AA-3655-01    11.0245  2.0858  ...  6.0321  10.3551    Stage II\n",
              "3  TCGA-A6-6137-01    11.0576  6.0759  ...  6.3616  10.2726  Stage IIIB\n",
              "4  TCGA-CK-4952-01    10.5660  1.9506  ...  3.6394   9.9296  Stage IIIC\n",
              "\n",
              "[5 rows x 20532 columns]"
            ]
          },
          "metadata": {
            "tags": []
          },
          "execution_count": 4
        }
      ]
    },
    {
      "cell_type": "code",
      "metadata": {
        "colab": {
          "base_uri": "https://localhost:8080/"
        },
        "id": "qFM7vEDlRAr5",
        "outputId": "b9ac7df4-bd05-40a8-9cb7-bd4ef90617d6"
      },
      "source": [
        "dataframe['label'] = dataframe['label'].map({'Stage I':1, 'Stage II':2, 'Stage III':3,\n",
        "                                                                  'Stage IV':4, 'Stage IA':1,'Stage IIA':2,\n",
        "                                                                  'Stage IIB':2, 'Stage IIC':2, 'Stage IIIA':3,\n",
        "                                                                  'Stage IIIB':3,'Stage IIIC':3, 'Stage IVA':4,'Stage IVB':4,'[Discrepancy]':0 }\n",
        "                                                                 )\n",
        "\n",
        "dataframe['label'].value_counts()"
      ],
      "execution_count": null,
      "outputs": [
        {
          "output_type": "execute_result",
          "data": {
            "text/plain": [
              "2.0    110\n",
              "3.0     80\n",
              "1.0     45\n",
              "4.0     39\n",
              "0.0      3\n",
              "Name: label, dtype: int64"
            ]
          },
          "metadata": {
            "tags": []
          },
          "execution_count": 5
        }
      ]
    },
    {
      "cell_type": "code",
      "metadata": {
        "colab": {
          "base_uri": "https://localhost:8080/"
        },
        "id": "a_-9B46KRDWS",
        "outputId": "1ff7b5d0-e234-4ac4-a783-8b1696dcc95b"
      },
      "source": [
        "# drop genes where all values are zero\n",
        "dataframe = dataframe.loc[:, (dataframe != 0).any()]\n",
        "dataframe.shape"
      ],
      "execution_count": null,
      "outputs": [
        {
          "output_type": "execute_result",
          "data": {
            "text/plain": [
              "(286, 20037)"
            ]
          },
          "metadata": {
            "tags": []
          },
          "execution_count": 6
        }
      ]
    },
    {
      "cell_type": "code",
      "metadata": {
        "colab": {
          "base_uri": "https://localhost:8080/"
        },
        "id": "xgocCgT-RGOM",
        "outputId": "d963a2d1-45bb-4869-d1c5-de940b1bc1bf"
      },
      "source": [
        "# check the rows/columns there sum is zero\n",
        "df_check = dataframe.loc[(dataframe.sum(axis=1) != 0), (dataframe.sum(axis=0) != 0)]\n",
        "df_check.shape"
      ],
      "execution_count": null,
      "outputs": [
        {
          "output_type": "execute_result",
          "data": {
            "text/plain": [
              "(286, 20037)"
            ]
          },
          "metadata": {
            "tags": []
          },
          "execution_count": 7
        }
      ]
    },
    {
      "cell_type": "code",
      "metadata": {
        "id": "XaGGIEVMRIcd"
      },
      "source": [
        "# drop rows with NAN\n",
        "dataframe = dataframe[dataframe['label'].notna()]\n",
        "# drop label where 0\n",
        "dataframe = dataframe[dataframe['label'] != 0]"
      ],
      "execution_count": null,
      "outputs": []
    },
    {
      "cell_type": "code",
      "metadata": {
        "id": "YdtUwjM7RKg6"
      },
      "source": [
        "cat_label = dataframe.pop('label')\n",
        "# drop gene id\n",
        "dataframe = dataframe.drop(['sampleID'],axis = 1)"
      ],
      "execution_count": null,
      "outputs": []
    },
    {
      "cell_type": "code",
      "metadata": {
        "colab": {
          "base_uri": "https://localhost:8080/"
        },
        "id": "EzSEeY4DRNMZ",
        "outputId": "786d93ff-c15a-4228-9447-3a97c6859146"
      },
      "source": [
        "# Dictionary for key value pair of labels \n",
        "num_classes = np.unique(cat_label)\n",
        "le = preprocessing.LabelEncoder()\n",
        "le.fit(cat_label)\n",
        "print(list(le.classes_))\n",
        "label = le.transform(cat_label)\n",
        "# print(\"label:{}\".format(label))"
      ],
      "execution_count": null,
      "outputs": [
        {
          "output_type": "stream",
          "text": [
            "[1.0, 2.0, 3.0, 4.0]\n"
          ],
          "name": "stdout"
        }
      ]
    },
    {
      "cell_type": "code",
      "metadata": {
        "colab": {
          "base_uri": "https://localhost:8080/"
        },
        "id": "10ohbLDCRR7Q",
        "outputId": "d0c52fca-9b2a-4291-d9ed-8b3883c03577"
      },
      "source": [
        "print(dataframe.shape)"
      ],
      "execution_count": null,
      "outputs": [
        {
          "output_type": "stream",
          "text": [
            "(274, 20035)\n"
          ],
          "name": "stdout"
        }
      ]
    },
    {
      "cell_type": "code",
      "metadata": {
        "colab": {
          "base_uri": "https://localhost:8080/",
          "height": 265
        },
        "id": "gTIpCcvaRU7c",
        "outputId": "623a39c5-3eed-4515-dac2-7549b0121d3f"
      },
      "source": [
        "# data visualization \n",
        "plt.hist(label)\n",
        "plt.show()"
      ],
      "execution_count": null,
      "outputs": [
        {
          "output_type": "display_data",
          "data": {
            "image/png": "[encoded data removed]",
            "text/plain": [
              "<Figure size 432x288 with 1 Axes>"
            ]
          },
          "metadata": {
            "tags": [],
            "needs_background": "light"
          }
        }
      ]
    },
    {
      "cell_type": "code",
      "metadata": {
        "id": "u4THcHdeRVr6"
      },
      "source": [
        "def data_scatter(x, colors):\n",
        "    # choose a color palette with seaborn.\n",
        "    num_classes = len(np.unique(colors))\n",
        "    palette = np.array(sns.color_palette(\"hls\", num_classes))\n",
        "\n",
        "    # create a scatter plot.\n",
        "    f = plt.figure(figsize=(8, 8))\n",
        "    ax = plt.subplot(aspect='equal')\n",
        "    sc = ax.scatter(x[:,0], x[:,1], lw=0, s=40, c=palette[colors.astype(np.int)])\n",
        "    plt.xlim(-25, 25)\n",
        "    plt.ylim(-25, 25)\n",
        "    ax.axis('off')\n",
        "    ax.axis('tight')\n",
        "\n",
        "    # add the labels for each digit corresponding to the label\n",
        "    txts = []\n",
        "\n",
        "    for i in range(num_classes):\n",
        "\n",
        "        # Position of each label at median of data points.\n",
        "\n",
        "        xtext, ytext = np.median(x[colors == i, :], axis=0)\n",
        "        txt = ax.text(xtext, ytext, str(i), fontsize=24)\n",
        "        txt.set_path_effects([\n",
        "            PathEffects.Stroke(linewidth=5, foreground=\"w\"),\n",
        "            PathEffects.Normal()])\n",
        "        txts.append(txt)\n",
        "\n",
        "    return f, ax, sc, txts"
      ],
      "execution_count": null,
      "outputs": []
    },
    {
      "cell_type": "code",
      "metadata": {
        "id": "ZA6XxmrKRYg8"
      },
      "source": [
        "# Data Visualization \n",
        "def dim_reduction(dataframe):\n",
        "    pca = PCA(n_components = 50)\n",
        "    pca_result_50 = pca.fit_transform(dataframe)\n",
        "    RS = 123\n",
        "    start_time = time.time()\n",
        "    data_pca_tsne = TSNE(random_state=RS).fit_transform(pca_result_50)\n",
        "    data_scatter(data_pca_tsne , label)\n",
        "    print(\"Time taken:{}\".format(time.time() - start_time))\n",
        "    return pca_result_50"
      ],
      "execution_count": null,
      "outputs": []
    },
    {
      "cell_type": "code",
      "metadata": {
        "colab": {
          "base_uri": "https://localhost:8080/",
          "height": 483
        },
        "id": "I0b5x20eRbpY",
        "outputId": "4c458655-5e42-42a3-9baa-5f6a5a572e43"
      },
      "source": [
        "# Data visualization for un normalized data\n",
        "data_pca = dim_reduction(dataframe)"
      ],
      "execution_count": null,
      "outputs": [
        {
          "output_type": "stream",
          "text": [
            "Time taken:2.0522775650024414\n"
          ],
          "name": "stdout"
        },
        {
          "output_type": "display_data",
          "data": {
            "image/png": "[encoded data removed]",
            "text/plain": [
              "<Figure size 576x576 with 1 Axes>"
            ]
          },
          "metadata": {
            "tags": [],
            "needs_background": "light"
          }
        }
      ]
    },
    {
      "cell_type": "code",
      "metadata": {
        "colab": {
          "base_uri": "https://localhost:8080/"
        },
        "id": "CoagwSUeReBy",
        "outputId": "9521a863-12ca-4028-f9e2-531468d9aca0"
      },
      "source": [
        "data_des = dataframe.describe()\n",
        "data_des_transpose = data_des.T['std']\n",
        "zero_columns = np.where(data_des_transpose.where(data_des_transpose ==0).notnull().tolist())\n",
        "#drop columns based on idexes\n",
        "dataframe = dataframe.drop(dataframe.columns[zero_columns],axis=1)\n",
        "dataframe.shape"
      ],
      "execution_count": null,
      "outputs": [
        {
          "output_type": "execute_result",
          "data": {
            "text/plain": [
              "(274, 20025)"
            ]
          },
          "metadata": {
            "tags": []
          },
          "execution_count": 16
        }
      ]
    },
    {
      "cell_type": "code",
      "metadata": {
        "colab": {
          "base_uri": "https://localhost:8080/"
        },
        "id": "25FcZr4mRgdt",
        "outputId": "eec30b77-a5d8-48d0-e2db-0dad219d2981"
      },
      "source": [
        "# Data normalization \n",
        "# # Sklearn minmax scaler \n",
        "\n",
        "def normal_dataframe(dataframe , norm_type  , normalize = False):\n",
        "    if normalize == True:\n",
        "        if norm_type =='min_max':\n",
        "            min_max_scaler = preprocessing.MinMaxScaler()\n",
        "            dataframe_scaled = min_max_scaler.fit_transform(dataframe)\n",
        "            return dataframe_scaled\n",
        "        \n",
        "        elif norm_type == 'Stand_scaler':\n",
        "            scaler = preprocessing.StandardScaler()\n",
        "            dataframe_scaled = scaler.fit_transform(dataframe)\n",
        "            return dataframe_scaled\n",
        "        \n",
        "        elif norm_type == 'zscore':\n",
        "            # data_stats = dataframe.describe()\n",
        "            # print(data_stats)\n",
        "            # dataframe_scaled = (dataframe - data_stats['mean'])/ dataframe['std']\n",
        "            dataframe_scaled = stats.zscore(dataframe)\n",
        "            return dataframe_scaled\n",
        "        \n",
        "        elif norm_type == 'MaxAbsScaler':\n",
        "            max_abs_scaler = preprocessing.MaxAbsScaler()\n",
        "            dataframe_scaled = max_abs_scaler.fit_transform(dataframe)\n",
        "            return dataframe_scaled\n",
        "            \n",
        "        elif norm_type == 'log_magnitude':\n",
        "            dataframe_scaled = dataframe.apply(lambda x : np.log(x+1)) \n",
        "            return dataframe_scaled.to_numpy()\n",
        "        \n",
        "        elif norm_type == 'log_normalize':\n",
        "            dataframe_scaled = dataframe.apply(lambda x : np.log(x+1))\n",
        "            nlise = preprocessing.Normalizer()\n",
        "            dataframe_normalized = nlise.fit_transform(dataframe_scaled)\n",
        "            return dataframe_normalized\n",
        "    else:\n",
        "        return dataframe.to_numpy()\n",
        "    \n",
        "dataframe_scaled = normal_dataframe(dataframe ,'log_normalize', True)\n",
        "print(dataframe_scaled.shape)"
      ],
      "execution_count": null,
      "outputs": [
        {
          "output_type": "stream",
          "text": [
            "(274, 20025)\n"
          ],
          "name": "stdout"
        }
      ]
    },
    {
      "cell_type": "code",
      "metadata": {
        "colab": {
          "base_uri": "https://localhost:8080/",
          "height": 483
        },
        "id": "3L5cXhM5Rqzq",
        "outputId": "e995b915-9416-44ef-944c-0f66314bad64"
      },
      "source": [
        "# Data visualiazation after normalization \n",
        "data_pca = dim_reduction(dataframe_scaled)"
      ],
      "execution_count": null,
      "outputs": [
        {
          "output_type": "stream",
          "text": [
            "Time taken:1.8459928035736084\n"
          ],
          "name": "stdout"
        },
        {
          "output_type": "display_data",
          "data": {
            "image/png": "[encoded data removed]",
            "text/plain": [
              "<Figure size 576x576 with 1 Axes>"
            ]
          },
          "metadata": {
            "tags": [],
            "needs_background": "light"
          }
        }
      ]
    },
    {
      "cell_type": "code",
      "metadata": {
        "colab": {
          "base_uri": "https://localhost:8080/"
        },
        "id": "LSFI37-mSgwo",
        "outputId": "1a7599bb-bb53-46c4-8c49-130c82fb2abc"
      },
      "source": [
        "#Test train Split\n",
        "# dataframe = dataframe.drop(['gene_id'],axis = 1)\n",
        "train, test , Y_train , Y_test = train_test_split(dataframe_scaled, label ,test_size = 0.1)\n",
        "train , val , Y_train , Y_val = train_test_split(train ,Y_train , test_size = 0.1)\n",
        "print(\"trainig data:{}\".format(len(train)))\n",
        "print(\"Validation data:{}\".format(len(val)))\n",
        "print(\"Testing data:{}\".format(len(test)))\n",
        "# print(\"Data Sample:{}\".format(train[0]))"
      ],
      "execution_count": null,
      "outputs": [
        {
          "output_type": "stream",
          "text": [
            "trainig data:221\n",
            "Validation data:25\n",
            "Testing data:28\n"
          ],
          "name": "stdout"
        }
      ]
    },
    {
      "cell_type": "code",
      "metadata": {
        "id": "UnBuPPA0SjtW"
      },
      "source": [
        "def label_encoder(label):\n",
        "  # encode class values as integers\n",
        "  encoder = LabelEncoder()\n",
        "  encoder.fit(label)\n",
        "  encoded_Y = encoder.transform(label)\n",
        "  # convert integers to dummy variables (i.e. one hot encoded)\n",
        "  dummy_y = np_utils.to_categorical(encoded_Y)\n",
        "  return dummy_y"
      ],
      "execution_count": null,
      "outputs": []
    },
    {
      "cell_type": "code",
      "metadata": {
        "id": "bM04QtB2SmWK"
      },
      "source": [
        "# creating label one hot encoding\n",
        "train_label_oh = label_encoder(Y_train)\n",
        "test_label_oh = label_encoder(Y_test)\n",
        "val_label_oh = label_encoder(Y_val)"
      ],
      "execution_count": null,
      "outputs": []
    },
    {
      "cell_type": "code",
      "metadata": {
        "id": "3aP9LDQkVGKK"
      },
      "source": [
        "# HP_NUM_UNITS = hp.HParam('num_units', hp.Discrete([16, 32]))\n",
        "HP_LEARNING_RATE =  hp.HParam('learning_rate',hp.Discrete([0.001,0.01,0.1]))\n",
        "HP_DROPOUT = hp.HParam('dropout', hp.RealInterval(0.1, 0.75))\n",
        "HP_OPTIMIZER = hp.HParam('optimizer', hp.Discrete(['adam']))\n",
        "\n",
        "METRIC_ACCURACY = 'accuracy'\n",
        "\n",
        "with tf.summary.create_file_writer('logs/hparam_tuning').as_default():\n",
        "  hp.hparams_config(\n",
        "    hparams=[ HP_LEARNING_RATE,HP_DROPOUT, HP_OPTIMIZER],\n",
        "    metrics=[hp.Metric(METRIC_ACCURACY, display_name='Accuracy')],\n",
        "  )"
      ],
      "execution_count": null,
      "outputs": []
    },
    {
      "cell_type": "code",
      "metadata": {
        "id": "lH-UWwhISqEW"
      },
      "source": [
        "#Base model \n",
        "def build_model_dnn(hparams):\n",
        "  model = tf.keras.Sequential([\n",
        "      #layer1 - input layer\n",
        "      layers.Dense(10000 , input_shape= (20025,) , name = 'Input'),\n",
        "      # adding batchnormalization\n",
        "      layers.BatchNormalization(),\n",
        "      layers.Activation('relu'),\n",
        "      layers.Dropout(hparams[HP_DROPOUT]),\n",
        "      # layers 2 hidden layer\n",
        "      layers.Dense(1000, name = \"Hidden_Layer_2\"),\n",
        "      layers.BatchNormalization(),\n",
        "      layers.Activation('relu'),\n",
        "      layers.Dropout(0.5),\n",
        "      layers.Dense(1000,  name = 'Hidden_layer_3'),\n",
        "      layers.BatchNormalization(),\n",
        "      layers.Activation('relu'),\n",
        "      layers.Dropout(0.5),\n",
        "      layers.Dense(100 , name = 'Hidden_layer_4'),\n",
        "      layers.BatchNormalization(),\n",
        "      layers.Activation('relu'),\n",
        "      layers.Dense(4 , activation = 'softmax' , name = \"Output_layer\")\n",
        "  ])\n",
        "  optimizer_name = hparams[HP_OPTIMIZER]\n",
        "  learning_rate = hparams[HP_LEARNING_RATE]\n",
        "  if optimizer_name == \"adam\":\n",
        "    optimizer = tf.keras.optimizers.Adam(learning_rate=learning_rate)\n",
        "  elif optimizer_name == \"sgd\":\n",
        "    optimizer = tf.keras.optimizers.SGD(learning_rate=learning_rate)\n",
        "  else:\n",
        "    raise ValueError(\"unexpected optimizer name: %r\" % (optimizer_name,))\n",
        "\n",
        "  model.compile(loss = 'categorical_crossentropy',\n",
        "               optimizer = optimizer,\n",
        "               metrics = ['accuracy'])\n",
        "  callbacks = [\n",
        "    EarlyStopping(patience=10, verbose=1,monitor='val_loss'),\n",
        "    ReduceLROnPlateau(factor=0.1, patience=3, min_lr=0.00001, verbose=1,monitor='val_loss'),\n",
        "    # tf.keras.callbacks.TensorBoard(logdir),\n",
        "    # hp.KerasCallback(logdir, hparams)\n",
        "    ]\n",
        "\n",
        "    #Model training \n",
        "  history = model.fit(\n",
        "            train, train_label_oh,\n",
        "            validation_data=(val, val_label_oh),\n",
        "            epochs = 100,\n",
        "            batch_size = 32,\n",
        "            callbacks=callbacks,\n",
        "            verbose=1)\n",
        "  \n",
        "  _, accuracy = model.evaluate(test, test_label_oh)\n",
        "  del model\n",
        "\n",
        "  return accuracy\n",
        "# model = build_model_dnn(hparams)\n",
        "# model.summary()"
      ],
      "execution_count": null,
      "outputs": []
    },
    {
      "cell_type": "code",
      "metadata": {
        "id": "Rg0GG69nY0Mk"
      },
      "source": [
        "def run(run_dir, hparams):\n",
        "  with tf.summary.create_file_writer(run_dir).as_default():\n",
        "    hp.hparams(hparams)  # record the values used in this trial\n",
        "    accuracy = build_model_dnn(hparams)\n",
        "    tf.summary.scalar(METRIC_ACCURACY, accuracy, step=1)"
      ],
      "execution_count": null,
      "outputs": []
    },
    {
      "cell_type": "code",
      "metadata": {
        "id": "pZkB6nseYaad"
      },
      "source": [
        "session_num = 0\n",
        "\n",
        "for lr in HP_LEARNING_RATE.domain.values:\n",
        "  for dropout_rate in (HP_DROPOUT.domain.min_value, HP_DROPOUT.domain.max_value):\n",
        "    for optimizer in HP_OPTIMIZER.domain.values:\n",
        "      hparams = {\n",
        "          HP_LEARNING_RATE: lr,\n",
        "          HP_DROPOUT: dropout_rate,\n",
        "          HP_OPTIMIZER: optimizer,\n",
        "      }\n",
        "      run_name = \"run-%d\" % session_num\n",
        "      print('--- Starting trial: %s' % run_name)\n",
        "      print({h.name: hparams[h] for h in hparams})\n",
        "      run('logs/hparam_tuning/' + run_name, hparams)\n",
        "      session_num += 1"
      ],
      "execution_count": null,
      "outputs": []
    },
    {
      "cell_type": "code",
      "metadata": {
        "id": "HtlAPDfJaz93"
      },
      "source": [
        "%tensorboard --logdir logs/hparam_tuning"
      ],
      "execution_count": null,
      "outputs": []
    },
    {
      "cell_type": "code",
      "metadata": {
        "id": "zmE29sROTVuE"
      },
      "source": [
        "def predict(test):\n",
        "    predictions = model.predict(test)\n",
        "    predict_index = predictions.argmax(axis=1)\n",
        "    # print(predict_index,np.shape(predict_index))\n",
        "    test_index = test_label_oh.argmax(axis=1)\n",
        "    # print(test_index,np.shape(test_index))\n",
        "    results = confusion_matrix(test_index,predict_index)\n",
        "\n",
        "\n",
        "    #Classification accuracy\n",
        "    accuracy = accuracy_score(test_index,predict_index)\n",
        "    print(\"Classification accuracy:{}\".format(accuracy))\n",
        "    print()\n",
        "    print(accuracy)\n",
        "\n",
        "    #Classification report \n",
        "    classify_report = classification_report(test_index,predict_index)\n",
        "    print(\"Classification report\")\n",
        "    print(classify_report)\n",
        "\n",
        "# predict(test)"
      ],
      "execution_count": null,
      "outputs": []
    }
  ]
}